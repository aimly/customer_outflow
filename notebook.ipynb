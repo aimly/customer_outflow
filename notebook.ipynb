{
 "cells": [
  {
   "cell_type": "markdown",
   "id": "de27576b",
   "metadata": {},
   "source": [
    "# Проект"
   ]
  },
  {
   "cell_type": "markdown",
   "id": "d6c82e66",
   "metadata": {},
   "source": [
    "## Постановка задачи"
   ]
  },
  {
   "cell_type": "markdown",
   "id": "1c83507b",
   "metadata": {},
   "source": [
    "Из «Бета-Банка» стали уходить клиенты. Каждый месяц. Немного, но заметно. Банковские маркетологи посчитали: сохранять текущих клиентов дешевле, чем привлекать новых.\n",
    "\n",
    "Нужно спрогнозировать, уйдёт клиент из банка в ближайшее время или нет. Нам предоставлены исторические данные о поведении клиентов и расторжении договоров с банком.\n",
    "Нужно построить модель с предельно большим значением F1-меры. Это значение должно быть не меньше, чем 0.59. Помимо F1-меры необходимо посчитать значение метрики AUC-ROC."
   ]
  },
  {
   "cell_type": "markdown",
   "id": "1783f2cc",
   "metadata": {},
   "source": [
    "## Изучение и подготовка данных"
   ]
  },
  {
   "cell_type": "code",
   "execution_count": 1,
   "id": "cd864335",
   "metadata": {},
   "outputs": [],
   "source": [
    "import pandas as pd\n",
    "import os\n",
    "import warnings\n",
    "from sklearn.model_selection import train_test_split\n",
    "import numpy as np\n",
    "from sklearn.ensemble import RandomForestClassifier\n",
    "from sklearn.linear_model import LogisticRegression,LogisticRegressionCV\n",
    "from sklearn.exceptions import ConvergenceWarning\n",
    "from sklearn.utils import shuffle\n",
    "from sklearn.preprocessing import StandardScaler\n",
    "from sklearn.metrics import f1_score, precision_score, recall_score, precision_recall_curve, roc_auc_score, accuracy_score\n",
    "from itertools import product, combinations\n",
    "import matplotlib.pyplot as plt\n",
    "from sklearn.dummy import DummyClassifier\n",
    "\n",
    "pd.options.mode.chained_assignment = None\n",
    "warnings.simplefilter(action='ignore', category=FutureWarning)\n",
    "warnings.simplefilter(action='ignore', category=ConvergenceWarning)\n",
    "is_need_learn = False"
   ]
  },
  {
   "cell_type": "markdown",
   "id": "8bd65876",
   "metadata": {},
   "source": [
    "Откроем файл с данными и изучим его"
   ]
  },
  {
   "cell_type": "code",
   "execution_count": 2,
   "id": "3bb7c3b0",
   "metadata": {},
   "outputs": [],
   "source": [
    "def open_file(filename, indexcol=None):\n",
    "    path_home = './data/' + filename\n",
    "    path_server = '/datasets/' + filename\n",
    "    path_full = filename\n",
    "    if os.path.exists(path_home):\n",
    "        return pd.read_csv(path_home, index_col=indexcol)\n",
    "    elif os.path.exists(path_server):\n",
    "        return pd.read_csv(path_server, index_col=indexcol)\n",
    "    elif os.path.exists(path_full):\n",
    "        return pd.read_csv(path_full, index_col=indexcol)\n",
    "    else:\n",
    "        raise FileNotFoundError(\"cannot find file \" + filename)"
   ]
  },
  {
   "cell_type": "code",
   "execution_count": 3,
   "id": "855cfb8c",
   "metadata": {},
   "outputs": [],
   "source": [
    "data = open_file('Churn_Modelling.csv', 0)"
   ]
  },
  {
   "cell_type": "code",
   "execution_count": 4,
   "id": "54de91d8",
   "metadata": {},
   "outputs": [
    {
     "name": "stdout",
     "output_type": "stream",
     "text": [
      "<class 'pandas.core.frame.DataFrame'>\n",
      "Int64Index: 10000 entries, 1 to 10000\n",
      "Data columns (total 13 columns):\n",
      " #   Column           Non-Null Count  Dtype  \n",
      "---  ------           --------------  -----  \n",
      " 0   CustomerId       10000 non-null  int64  \n",
      " 1   Surname          10000 non-null  object \n",
      " 2   CreditScore      10000 non-null  int64  \n",
      " 3   Geography        10000 non-null  object \n",
      " 4   Gender           10000 non-null  object \n",
      " 5   Age              10000 non-null  int64  \n",
      " 6   Tenure           10000 non-null  int64  \n",
      " 7   Balance          10000 non-null  float64\n",
      " 8   NumOfProducts    10000 non-null  int64  \n",
      " 9   HasCrCard        10000 non-null  int64  \n",
      " 10  IsActiveMember   10000 non-null  int64  \n",
      " 11  EstimatedSalary  10000 non-null  float64\n",
      " 12  Exited           10000 non-null  int64  \n",
      "dtypes: float64(2), int64(8), object(3)\n",
      "memory usage: 1.1+ MB\n"
     ]
    },
    {
     "data": {
      "text/html": [
       "<div>\n",
       "<style scoped>\n",
       "    .dataframe tbody tr th:only-of-type {\n",
       "        vertical-align: middle;\n",
       "    }\n",
       "\n",
       "    .dataframe tbody tr th {\n",
       "        vertical-align: top;\n",
       "    }\n",
       "\n",
       "    .dataframe thead th {\n",
       "        text-align: right;\n",
       "    }\n",
       "</style>\n",
       "<table border=\"1\" class=\"dataframe\">\n",
       "  <thead>\n",
       "    <tr style=\"text-align: right;\">\n",
       "      <th></th>\n",
       "      <th>CustomerId</th>\n",
       "      <th>Surname</th>\n",
       "      <th>CreditScore</th>\n",
       "      <th>Geography</th>\n",
       "      <th>Gender</th>\n",
       "      <th>Age</th>\n",
       "      <th>Tenure</th>\n",
       "      <th>Balance</th>\n",
       "      <th>NumOfProducts</th>\n",
       "      <th>HasCrCard</th>\n",
       "      <th>IsActiveMember</th>\n",
       "      <th>EstimatedSalary</th>\n",
       "      <th>Exited</th>\n",
       "    </tr>\n",
       "    <tr>\n",
       "      <th>RowNumber</th>\n",
       "      <th></th>\n",
       "      <th></th>\n",
       "      <th></th>\n",
       "      <th></th>\n",
       "      <th></th>\n",
       "      <th></th>\n",
       "      <th></th>\n",
       "      <th></th>\n",
       "      <th></th>\n",
       "      <th></th>\n",
       "      <th></th>\n",
       "      <th></th>\n",
       "      <th></th>\n",
       "    </tr>\n",
       "  </thead>\n",
       "  <tbody>\n",
       "    <tr>\n",
       "      <th>1</th>\n",
       "      <td>15634602</td>\n",
       "      <td>Hargrave</td>\n",
       "      <td>619</td>\n",
       "      <td>France</td>\n",
       "      <td>Female</td>\n",
       "      <td>42</td>\n",
       "      <td>2</td>\n",
       "      <td>0.00</td>\n",
       "      <td>1</td>\n",
       "      <td>1</td>\n",
       "      <td>1</td>\n",
       "      <td>101348.88</td>\n",
       "      <td>1</td>\n",
       "    </tr>\n",
       "    <tr>\n",
       "      <th>2</th>\n",
       "      <td>15647311</td>\n",
       "      <td>Hill</td>\n",
       "      <td>608</td>\n",
       "      <td>Spain</td>\n",
       "      <td>Female</td>\n",
       "      <td>41</td>\n",
       "      <td>1</td>\n",
       "      <td>83807.86</td>\n",
       "      <td>1</td>\n",
       "      <td>0</td>\n",
       "      <td>1</td>\n",
       "      <td>112542.58</td>\n",
       "      <td>0</td>\n",
       "    </tr>\n",
       "    <tr>\n",
       "      <th>3</th>\n",
       "      <td>15619304</td>\n",
       "      <td>Onio</td>\n",
       "      <td>502</td>\n",
       "      <td>France</td>\n",
       "      <td>Female</td>\n",
       "      <td>42</td>\n",
       "      <td>8</td>\n",
       "      <td>159660.80</td>\n",
       "      <td>3</td>\n",
       "      <td>1</td>\n",
       "      <td>0</td>\n",
       "      <td>113931.57</td>\n",
       "      <td>1</td>\n",
       "    </tr>\n",
       "    <tr>\n",
       "      <th>4</th>\n",
       "      <td>15701354</td>\n",
       "      <td>Boni</td>\n",
       "      <td>699</td>\n",
       "      <td>France</td>\n",
       "      <td>Female</td>\n",
       "      <td>39</td>\n",
       "      <td>1</td>\n",
       "      <td>0.00</td>\n",
       "      <td>2</td>\n",
       "      <td>0</td>\n",
       "      <td>0</td>\n",
       "      <td>93826.63</td>\n",
       "      <td>0</td>\n",
       "    </tr>\n",
       "    <tr>\n",
       "      <th>5</th>\n",
       "      <td>15737888</td>\n",
       "      <td>Mitchell</td>\n",
       "      <td>850</td>\n",
       "      <td>Spain</td>\n",
       "      <td>Female</td>\n",
       "      <td>43</td>\n",
       "      <td>2</td>\n",
       "      <td>125510.82</td>\n",
       "      <td>1</td>\n",
       "      <td>1</td>\n",
       "      <td>1</td>\n",
       "      <td>79084.10</td>\n",
       "      <td>0</td>\n",
       "    </tr>\n",
       "  </tbody>\n",
       "</table>\n",
       "</div>"
      ],
      "text/plain": [
       "           CustomerId   Surname  CreditScore Geography  Gender  Age  Tenure  \\\n",
       "RowNumber                                                                     \n",
       "1            15634602  Hargrave          619    France  Female   42       2   \n",
       "2            15647311      Hill          608     Spain  Female   41       1   \n",
       "3            15619304      Onio          502    France  Female   42       8   \n",
       "4            15701354      Boni          699    France  Female   39       1   \n",
       "5            15737888  Mitchell          850     Spain  Female   43       2   \n",
       "\n",
       "             Balance  NumOfProducts  HasCrCard  IsActiveMember  \\\n",
       "RowNumber                                                        \n",
       "1               0.00              1          1               1   \n",
       "2           83807.86              1          0               1   \n",
       "3          159660.80              3          1               0   \n",
       "4               0.00              2          0               0   \n",
       "5          125510.82              1          1               1   \n",
       "\n",
       "           EstimatedSalary  Exited  \n",
       "RowNumber                           \n",
       "1                101348.88       1  \n",
       "2                112542.58       0  \n",
       "3                113931.57       1  \n",
       "4                 93826.63       0  \n",
       "5                 79084.10       0  "
      ]
     },
     "execution_count": 4,
     "metadata": {},
     "output_type": "execute_result"
    }
   ],
   "source": [
    "data.info()\n",
    "data.head()"
   ]
  },
  {
   "cell_type": "markdown",
   "id": "fb432ac9",
   "metadata": {},
   "source": [
    "В таблице 10000 строк и 14 столбцов. Пропусков нет. Последний столбец (_Exitted_) будет использоваться как целевой признак, а все остальные, кроме столбцов _CustomerId_ и _Surname_ - как обычные признаки для обучения моделей."
   ]
  },
  {
   "cell_type": "code",
   "execution_count": 5,
   "id": "7f247e94",
   "metadata": {},
   "outputs": [
    {
     "name": "stdout",
     "output_type": "stream",
     "text": [
      "Доля клиентов, перешедших на тариф ultra: 0.2037\n",
      "Доля клиентов, перешедших на тариф ultra: 0.7963\n"
     ]
    }
   ],
   "source": [
    "print('Доля клиентов, перешедших на тариф ultra:', data[data['Exited'] == 1]['Exited'].count()/data['Exited'].count())\n",
    "print('Доля клиентов, перешедших на тариф ultra:', data[data['Exited'] == 0]['Exited'].count()/data['Exited'].count())"
   ]
  },
  {
   "cell_type": "markdown",
   "id": "48cebe6e",
   "metadata": {},
   "source": [
    "Соотношение признаков примерно 1 к 4. Довольно ощутимая разница, которая может повлиять на обучение и результаты, если мы будем обучать модель ровно на наших данных без каких-либо изменений. Вероятно, нам придется отредактировать данные для более корректного обучения."
   ]
  },
  {
   "cell_type": "markdown",
   "id": "bf4163b0",
   "metadata": {},
   "source": [
    "Преобразуем категориальные признаки в численные с помощью one-head encoding. Всего у нас 2 категориальных признака - столбец _Genre_ с двумя возможными значениями и столбец _Geography_ с тремя возможными значениями. Поэтому после преобразования мы удалим два старых столбца и сгенерируем три новых, что не приведет к раздуванию таблицы."
   ]
  },
  {
   "cell_type": "code",
   "execution_count": 6,
   "id": "70d28b0b",
   "metadata": {},
   "outputs": [
    {
     "data": {
      "text/html": [
       "<div>\n",
       "<style scoped>\n",
       "    .dataframe tbody tr th:only-of-type {\n",
       "        vertical-align: middle;\n",
       "    }\n",
       "\n",
       "    .dataframe tbody tr th {\n",
       "        vertical-align: top;\n",
       "    }\n",
       "\n",
       "    .dataframe thead th {\n",
       "        text-align: right;\n",
       "    }\n",
       "</style>\n",
       "<table border=\"1\" class=\"dataframe\">\n",
       "  <thead>\n",
       "    <tr style=\"text-align: right;\">\n",
       "      <th></th>\n",
       "      <th>CreditScore</th>\n",
       "      <th>Age</th>\n",
       "      <th>Tenure</th>\n",
       "      <th>Balance</th>\n",
       "      <th>NumOfProducts</th>\n",
       "      <th>HasCrCard</th>\n",
       "      <th>IsActiveMember</th>\n",
       "      <th>EstimatedSalary</th>\n",
       "      <th>Exited</th>\n",
       "      <th>Geography_Germany</th>\n",
       "      <th>Geography_Spain</th>\n",
       "      <th>Gender_Male</th>\n",
       "    </tr>\n",
       "    <tr>\n",
       "      <th>RowNumber</th>\n",
       "      <th></th>\n",
       "      <th></th>\n",
       "      <th></th>\n",
       "      <th></th>\n",
       "      <th></th>\n",
       "      <th></th>\n",
       "      <th></th>\n",
       "      <th></th>\n",
       "      <th></th>\n",
       "      <th></th>\n",
       "      <th></th>\n",
       "      <th></th>\n",
       "    </tr>\n",
       "  </thead>\n",
       "  <tbody>\n",
       "    <tr>\n",
       "      <th>1</th>\n",
       "      <td>619</td>\n",
       "      <td>42</td>\n",
       "      <td>2</td>\n",
       "      <td>0.00</td>\n",
       "      <td>1</td>\n",
       "      <td>1</td>\n",
       "      <td>1</td>\n",
       "      <td>101348.88</td>\n",
       "      <td>1</td>\n",
       "      <td>0</td>\n",
       "      <td>0</td>\n",
       "      <td>0</td>\n",
       "    </tr>\n",
       "    <tr>\n",
       "      <th>2</th>\n",
       "      <td>608</td>\n",
       "      <td>41</td>\n",
       "      <td>1</td>\n",
       "      <td>83807.86</td>\n",
       "      <td>1</td>\n",
       "      <td>0</td>\n",
       "      <td>1</td>\n",
       "      <td>112542.58</td>\n",
       "      <td>0</td>\n",
       "      <td>0</td>\n",
       "      <td>1</td>\n",
       "      <td>0</td>\n",
       "    </tr>\n",
       "    <tr>\n",
       "      <th>3</th>\n",
       "      <td>502</td>\n",
       "      <td>42</td>\n",
       "      <td>8</td>\n",
       "      <td>159660.80</td>\n",
       "      <td>3</td>\n",
       "      <td>1</td>\n",
       "      <td>0</td>\n",
       "      <td>113931.57</td>\n",
       "      <td>1</td>\n",
       "      <td>0</td>\n",
       "      <td>0</td>\n",
       "      <td>0</td>\n",
       "    </tr>\n",
       "    <tr>\n",
       "      <th>4</th>\n",
       "      <td>699</td>\n",
       "      <td>39</td>\n",
       "      <td>1</td>\n",
       "      <td>0.00</td>\n",
       "      <td>2</td>\n",
       "      <td>0</td>\n",
       "      <td>0</td>\n",
       "      <td>93826.63</td>\n",
       "      <td>0</td>\n",
       "      <td>0</td>\n",
       "      <td>0</td>\n",
       "      <td>0</td>\n",
       "    </tr>\n",
       "    <tr>\n",
       "      <th>5</th>\n",
       "      <td>850</td>\n",
       "      <td>43</td>\n",
       "      <td>2</td>\n",
       "      <td>125510.82</td>\n",
       "      <td>1</td>\n",
       "      <td>1</td>\n",
       "      <td>1</td>\n",
       "      <td>79084.10</td>\n",
       "      <td>0</td>\n",
       "      <td>0</td>\n",
       "      <td>1</td>\n",
       "      <td>0</td>\n",
       "    </tr>\n",
       "  </tbody>\n",
       "</table>\n",
       "</div>"
      ],
      "text/plain": [
       "           CreditScore  Age  Tenure    Balance  NumOfProducts  HasCrCard  \\\n",
       "RowNumber                                                                  \n",
       "1                  619   42       2       0.00              1          1   \n",
       "2                  608   41       1   83807.86              1          0   \n",
       "3                  502   42       8  159660.80              3          1   \n",
       "4                  699   39       1       0.00              2          0   \n",
       "5                  850   43       2  125510.82              1          1   \n",
       "\n",
       "           IsActiveMember  EstimatedSalary  Exited  Geography_Germany  \\\n",
       "RowNumber                                                               \n",
       "1                       1        101348.88       1                  0   \n",
       "2                       1        112542.58       0                  0   \n",
       "3                       0        113931.57       1                  0   \n",
       "4                       0         93826.63       0                  0   \n",
       "5                       1         79084.10       0                  0   \n",
       "\n",
       "           Geography_Spain  Gender_Male  \n",
       "RowNumber                                \n",
       "1                        0            0  \n",
       "2                        1            0  \n",
       "3                        0            0  \n",
       "4                        0            0  \n",
       "5                        1            0  "
      ]
     },
     "execution_count": 6,
     "metadata": {},
     "output_type": "execute_result"
    }
   ],
   "source": [
    "data_ohe = pd.get_dummies(data.loc[:, (data.columns != 'CustomerId') & (data.columns != 'Surname')], drop_first=True)\n",
    "data_ohe.head()"
   ]
  },
  {
   "cell_type": "markdown",
   "id": "1c3925c4",
   "metadata": {},
   "source": [
    "Определим обучающую, валидационную и тестовую выборки. Соотношение будет 3:1:1. Для каждой выборки сохраним соотношение признаков."
   ]
  },
  {
   "cell_type": "code",
   "execution_count": 7,
   "id": "cf4b60a6",
   "metadata": {},
   "outputs": [
    {
     "name": "stdout",
     "output_type": "stream",
     "text": [
      "Train sample size 5998\n",
      "Test sample size 2001\n",
      "Test sample size 2001\n"
     ]
    }
   ],
   "source": [
    "features_1 = data_ohe[data_ohe['Exited'] == 1].loc[:, data_ohe.columns != 'Exited']\n",
    "target_1 = data_ohe[data_ohe['Exited'] == 1]['Exited']\n",
    "features_0 = data_ohe[data_ohe['Exited'] == 0].loc[:, data_ohe.columns != 'Exited']\n",
    "target_0 = data_ohe[data_ohe['Exited'] == 0]['Exited']\n",
    "\n",
    "main_features_1, test_features_1, main_target_1, test_target_1 = train_test_split(features_1, target_1, test_size=0.2, random_state=12345)\n",
    "main_features_0, test_features_0, main_target_0, test_target_0 = train_test_split(features_0, target_0, test_size=0.2, random_state=12345)\n",
    "\n",
    "train_features_1, valid_features_1, train_target_1, valid_target_1 = train_test_split(main_features_1, main_target_1, test_size=0.25, random_state=12345)\n",
    "train_features_0, valid_features_0, train_target_0, valid_target_0 = train_test_split(main_features_0, main_target_0, test_size=0.25, random_state=12345)\n",
    "\n",
    "main_features = pd.concat([main_features_1, main_features_0])\n",
    "train_features = pd.concat([train_features_1, train_features_0])\n",
    "test_features = pd.concat([test_features_1, test_features_0])\n",
    "valid_features = pd.concat([valid_features_1, valid_features_0])\n",
    "main_target = pd.concat([main_target_1, main_target_0])\n",
    "train_target = pd.concat([train_target_1, train_target_0])\n",
    "test_target = pd.concat([test_target_1, test_target_0])\n",
    "valid_target = pd.concat([valid_target_1, valid_target_0])\n",
    "\n",
    "print('Train sample size', train_features.shape[0])\n",
    "print('Test sample size', test_features.shape[0])\n",
    "print('Test sample size', valid_features.shape[0])"
   ]
  },
  {
   "cell_type": "markdown",
   "id": "c4e3d85f",
   "metadata": {},
   "source": [
    "Определим массив числовых признаков и нормируем эти признаки. "
   ]
  },
  {
   "cell_type": "code",
   "execution_count": 8,
   "id": "5c2b8f0f",
   "metadata": {},
   "outputs": [
    {
     "name": "stdout",
     "output_type": "stream",
     "text": [
      "(5998, 11)\n",
      "(2001, 11)\n"
     ]
    },
    {
     "data": {
      "text/html": [
       "<div>\n",
       "<style scoped>\n",
       "    .dataframe tbody tr th:only-of-type {\n",
       "        vertical-align: middle;\n",
       "    }\n",
       "\n",
       "    .dataframe tbody tr th {\n",
       "        vertical-align: top;\n",
       "    }\n",
       "\n",
       "    .dataframe thead th {\n",
       "        text-align: right;\n",
       "    }\n",
       "</style>\n",
       "<table border=\"1\" class=\"dataframe\">\n",
       "  <thead>\n",
       "    <tr style=\"text-align: right;\">\n",
       "      <th></th>\n",
       "      <th>CreditScore</th>\n",
       "      <th>Age</th>\n",
       "      <th>Tenure</th>\n",
       "      <th>Balance</th>\n",
       "      <th>NumOfProducts</th>\n",
       "      <th>HasCrCard</th>\n",
       "      <th>IsActiveMember</th>\n",
       "      <th>EstimatedSalary</th>\n",
       "      <th>Geography_Germany</th>\n",
       "      <th>Geography_Spain</th>\n",
       "      <th>Gender_Male</th>\n",
       "    </tr>\n",
       "    <tr>\n",
       "      <th>RowNumber</th>\n",
       "      <th></th>\n",
       "      <th></th>\n",
       "      <th></th>\n",
       "      <th></th>\n",
       "      <th></th>\n",
       "      <th></th>\n",
       "      <th></th>\n",
       "      <th></th>\n",
       "      <th></th>\n",
       "      <th></th>\n",
       "      <th></th>\n",
       "    </tr>\n",
       "  </thead>\n",
       "  <tbody>\n",
       "    <tr>\n",
       "      <th>4730</th>\n",
       "      <td>0.345763</td>\n",
       "      <td>0.303605</td>\n",
       "      <td>-0.35107</td>\n",
       "      <td>1.143057</td>\n",
       "      <td>-0.914176</td>\n",
       "      <td>1</td>\n",
       "      <td>1</td>\n",
       "      <td>-0.967680</td>\n",
       "      <td>0</td>\n",
       "      <td>0</td>\n",
       "      <td>0</td>\n",
       "    </tr>\n",
       "    <tr>\n",
       "      <th>5389</th>\n",
       "      <td>-0.782942</td>\n",
       "      <td>1.456758</td>\n",
       "      <td>-1.38871</td>\n",
       "      <td>0.362816</td>\n",
       "      <td>-0.914176</td>\n",
       "      <td>0</td>\n",
       "      <td>0</td>\n",
       "      <td>-1.663127</td>\n",
       "      <td>1</td>\n",
       "      <td>0</td>\n",
       "      <td>1</td>\n",
       "    </tr>\n",
       "    <tr>\n",
       "      <th>1220</th>\n",
       "      <td>0.449314</td>\n",
       "      <td>0.495797</td>\n",
       "      <td>-0.00519</td>\n",
       "      <td>0.762143</td>\n",
       "      <td>0.805783</td>\n",
       "      <td>1</td>\n",
       "      <td>1</td>\n",
       "      <td>-0.927391</td>\n",
       "      <td>1</td>\n",
       "      <td>0</td>\n",
       "      <td>1</td>\n",
       "    </tr>\n",
       "    <tr>\n",
       "      <th>6233</th>\n",
       "      <td>0.780677</td>\n",
       "      <td>0.784085</td>\n",
       "      <td>-1.38871</td>\n",
       "      <td>0.445054</td>\n",
       "      <td>-0.914176</td>\n",
       "      <td>0</td>\n",
       "      <td>0</td>\n",
       "      <td>-0.234951</td>\n",
       "      <td>1</td>\n",
       "      <td>0</td>\n",
       "      <td>0</td>\n",
       "    </tr>\n",
       "    <tr>\n",
       "      <th>3338</th>\n",
       "      <td>-0.731166</td>\n",
       "      <td>1.648950</td>\n",
       "      <td>-0.35107</td>\n",
       "      <td>0.355841</td>\n",
       "      <td>-0.914176</td>\n",
       "      <td>0</td>\n",
       "      <td>0</td>\n",
       "      <td>-1.669634</td>\n",
       "      <td>0</td>\n",
       "      <td>1</td>\n",
       "      <td>1</td>\n",
       "    </tr>\n",
       "  </tbody>\n",
       "</table>\n",
       "</div>"
      ],
      "text/plain": [
       "           CreditScore       Age   Tenure   Balance  NumOfProducts  HasCrCard  \\\n",
       "RowNumber                                                                       \n",
       "4730          0.345763  0.303605 -0.35107  1.143057      -0.914176          1   \n",
       "5389         -0.782942  1.456758 -1.38871  0.362816      -0.914176          0   \n",
       "1220          0.449314  0.495797 -0.00519  0.762143       0.805783          1   \n",
       "6233          0.780677  0.784085 -1.38871  0.445054      -0.914176          0   \n",
       "3338         -0.731166  1.648950 -0.35107  0.355841      -0.914176          0   \n",
       "\n",
       "           IsActiveMember  EstimatedSalary  Geography_Germany  \\\n",
       "RowNumber                                                       \n",
       "4730                    1        -0.967680                  0   \n",
       "5389                    0        -1.663127                  1   \n",
       "1220                    1        -0.927391                  1   \n",
       "6233                    0        -0.234951                  1   \n",
       "3338                    0        -1.669634                  0   \n",
       "\n",
       "           Geography_Spain  Gender_Male  \n",
       "RowNumber                                \n",
       "4730                     0            0  \n",
       "5389                     0            1  \n",
       "1220                     0            1  \n",
       "6233                     0            0  \n",
       "3338                     1            1  "
      ]
     },
     "metadata": {},
     "output_type": "display_data"
    },
    {
     "data": {
      "text/html": [
       "<div>\n",
       "<style scoped>\n",
       "    .dataframe tbody tr th:only-of-type {\n",
       "        vertical-align: middle;\n",
       "    }\n",
       "\n",
       "    .dataframe tbody tr th {\n",
       "        vertical-align: top;\n",
       "    }\n",
       "\n",
       "    .dataframe thead th {\n",
       "        text-align: right;\n",
       "    }\n",
       "</style>\n",
       "<table border=\"1\" class=\"dataframe\">\n",
       "  <thead>\n",
       "    <tr style=\"text-align: right;\">\n",
       "      <th></th>\n",
       "      <th>CreditScore</th>\n",
       "      <th>Age</th>\n",
       "      <th>Tenure</th>\n",
       "      <th>Balance</th>\n",
       "      <th>NumOfProducts</th>\n",
       "      <th>HasCrCard</th>\n",
       "      <th>IsActiveMember</th>\n",
       "      <th>EstimatedSalary</th>\n",
       "      <th>Geography_Germany</th>\n",
       "      <th>Geography_Spain</th>\n",
       "      <th>Gender_Male</th>\n",
       "    </tr>\n",
       "    <tr>\n",
       "      <th>RowNumber</th>\n",
       "      <th></th>\n",
       "      <th></th>\n",
       "      <th></th>\n",
       "      <th></th>\n",
       "      <th></th>\n",
       "      <th></th>\n",
       "      <th></th>\n",
       "      <th></th>\n",
       "      <th></th>\n",
       "      <th></th>\n",
       "      <th></th>\n",
       "    </tr>\n",
       "  </thead>\n",
       "  <tbody>\n",
       "    <tr>\n",
       "      <th>2696</th>\n",
       "      <td>-0.544775</td>\n",
       "      <td>0.015316</td>\n",
       "      <td>1.03245</td>\n",
       "      <td>1.372230</td>\n",
       "      <td>2.525741</td>\n",
       "      <td>1</td>\n",
       "      <td>0</td>\n",
       "      <td>-1.118685</td>\n",
       "      <td>1</td>\n",
       "      <td>0</td>\n",
       "      <td>0</td>\n",
       "    </tr>\n",
       "    <tr>\n",
       "      <th>5536</th>\n",
       "      <td>-0.016665</td>\n",
       "      <td>-0.657356</td>\n",
       "      <td>1.03245</td>\n",
       "      <td>1.285485</td>\n",
       "      <td>2.525741</td>\n",
       "      <td>1</td>\n",
       "      <td>0</td>\n",
       "      <td>1.588956</td>\n",
       "      <td>1</td>\n",
       "      <td>0</td>\n",
       "      <td>0</td>\n",
       "    </tr>\n",
       "    <tr>\n",
       "      <th>521</th>\n",
       "      <td>2.075063</td>\n",
       "      <td>-0.369068</td>\n",
       "      <td>-1.38871</td>\n",
       "      <td>2.164257</td>\n",
       "      <td>-0.914176</td>\n",
       "      <td>1</td>\n",
       "      <td>0</td>\n",
       "      <td>1.546660</td>\n",
       "      <td>0</td>\n",
       "      <td>0</td>\n",
       "      <td>0</td>\n",
       "    </tr>\n",
       "    <tr>\n",
       "      <th>9211</th>\n",
       "      <td>-2.771119</td>\n",
       "      <td>-0.272972</td>\n",
       "      <td>-1.73459</td>\n",
       "      <td>-1.241989</td>\n",
       "      <td>-0.914176</td>\n",
       "      <td>1</td>\n",
       "      <td>1</td>\n",
       "      <td>1.388801</td>\n",
       "      <td>0</td>\n",
       "      <td>1</td>\n",
       "      <td>1</td>\n",
       "    </tr>\n",
       "    <tr>\n",
       "      <th>7557</th>\n",
       "      <td>0.915293</td>\n",
       "      <td>0.976277</td>\n",
       "      <td>-0.69695</td>\n",
       "      <td>-1.241989</td>\n",
       "      <td>2.525741</td>\n",
       "      <td>1</td>\n",
       "      <td>1</td>\n",
       "      <td>-0.611645</td>\n",
       "      <td>0</td>\n",
       "      <td>1</td>\n",
       "      <td>1</td>\n",
       "    </tr>\n",
       "  </tbody>\n",
       "</table>\n",
       "</div>"
      ],
      "text/plain": [
       "           CreditScore       Age   Tenure   Balance  NumOfProducts  HasCrCard  \\\n",
       "RowNumber                                                                       \n",
       "2696         -0.544775  0.015316  1.03245  1.372230       2.525741          1   \n",
       "5536         -0.016665 -0.657356  1.03245  1.285485       2.525741          1   \n",
       "521           2.075063 -0.369068 -1.38871  2.164257      -0.914176          1   \n",
       "9211         -2.771119 -0.272972 -1.73459 -1.241989      -0.914176          1   \n",
       "7557          0.915293  0.976277 -0.69695 -1.241989       2.525741          1   \n",
       "\n",
       "           IsActiveMember  EstimatedSalary  Geography_Germany  \\\n",
       "RowNumber                                                       \n",
       "2696                    0        -1.118685                  1   \n",
       "5536                    0         1.588956                  1   \n",
       "521                     0         1.546660                  0   \n",
       "9211                    1         1.388801                  0   \n",
       "7557                    1        -0.611645                  0   \n",
       "\n",
       "           Geography_Spain  Gender_Male  \n",
       "RowNumber                                \n",
       "2696                     0            0  \n",
       "5536                     0            0  \n",
       "521                      0            0  \n",
       "9211                     1            1  \n",
       "7557                     1            1  "
      ]
     },
     "execution_count": 8,
     "metadata": {},
     "output_type": "execute_result"
    }
   ],
   "source": [
    "# столбцы 'HasCrCard' и 'IsActiveMember' численные, но имеют значения 0 и 1\n",
    "numeric = ['CreditScore', 'Age', 'Tenure', 'Balance', 'NumOfProducts', 'EstimatedSalary']\n",
    "\n",
    "scaler = StandardScaler()\n",
    "scaler.fit(train_features[numeric])\n",
    "\n",
    "train_features[numeric] = scaler.transform(train_features[numeric])\n",
    "valid_features[numeric] = scaler.transform(valid_features[numeric])\n",
    "\n",
    "scaler = StandardScaler()\n",
    "scaler.fit(main_features[numeric])\n",
    "main_features[numeric] = scaler.transform(main_features[numeric])\n",
    "test_features[numeric] = scaler.transform(test_features[numeric])\n",
    "\n",
    "print(train_features.shape)\n",
    "print(valid_features.shape)\n",
    "print(test_features.shape)\n",
    "display(train_features.head())\n",
    "display(valid_features.head())\n",
    "test_features.head()"
   ]
  },
  {
   "cell_type": "markdown",
   "id": "871ab64c",
   "metadata": {},
   "source": [
    "Так как в выборке наблюдается значительный дизбаланс классов, создадим сбалансированные выборки - с помощью расширения и с помощью сужения исходной."
   ]
  },
  {
   "cell_type": "code",
   "execution_count": 9,
   "id": "2d072324",
   "metadata": {},
   "outputs": [],
   "source": [
    "def upsample(features, target, repeat):\n",
    "    features_zeros = features[target == 0]\n",
    "    features_ones = features[target == 1]\n",
    "    target_zeros = target[target == 0]\n",
    "    target_ones = target[target == 1]\n",
    "\n",
    "    features_upsampled = pd.concat([features_zeros] + [features_ones] * repeat)\n",
    "    target_upsampled = pd.concat([target_zeros] + [target_ones] * repeat)\n",
    "    \n",
    "    features_upsampled, target_upsampled = shuffle(\n",
    "        features_upsampled, target_upsampled, random_state=12345)\n",
    "    \n",
    "    return features_upsampled, target_upsampled"
   ]
  },
  {
   "cell_type": "code",
   "execution_count": 10,
   "id": "33c62d39",
   "metadata": {},
   "outputs": [
    {
     "name": "stdout",
     "output_type": "stream",
     "text": [
      "Upsampled train sample size 9661\n",
      "Class 1 4884\n",
      "Class 2 4777\n"
     ]
    }
   ],
   "source": [
    "features_upsampled, target_upsampled = upsample(train_features, train_target, 4)\n",
    "print('Upsampled train sample size', features_upsampled.shape[0])\n",
    "print('Class 1', features_upsampled[target_upsampled == 1].shape[0])\n",
    "print('Class 2', features_upsampled[target_upsampled == 0].shape[0])"
   ]
  },
  {
   "cell_type": "code",
   "execution_count": 11,
   "id": "b7febf9f",
   "metadata": {},
   "outputs": [],
   "source": [
    "def downsample(features, target, fraction):\n",
    "    features_zeros = features[target == 0]\n",
    "    features_ones = features[target == 1]\n",
    "    target_zeros = target[target == 0]\n",
    "    target_ones = target[target == 1]\n",
    "\n",
    "    features_downsampled = pd.concat(\n",
    "        [features_zeros.sample(frac=fraction, random_state=12345)] + [features_ones])\n",
    "    target_downsampled = pd.concat(\n",
    "        [target_zeros.sample(frac=fraction, random_state=12345)] + [target_ones])\n",
    "    \n",
    "    features_downsampled, target_downsampled = shuffle(\n",
    "        features_downsampled, target_downsampled, random_state=12345)\n",
    "    \n",
    "    return features_downsampled, target_downsampled"
   ]
  },
  {
   "cell_type": "code",
   "execution_count": 12,
   "id": "18d9971a",
   "metadata": {},
   "outputs": [
    {
     "name": "stdout",
     "output_type": "stream",
     "text": [
      "Downsampled train sample size 2463\n",
      "Class 1 1221\n",
      "Class 2 1242\n"
     ]
    }
   ],
   "source": [
    "features_downsampled, target_downsampled = downsample(train_features, train_target, 0.26)\n",
    "print('Downsampled train sample size', features_downsampled.shape[0])\n",
    "print('Class 1', features_downsampled[target_downsampled == 1].shape[0])\n",
    "print('Class 2', features_downsampled[target_downsampled == 0].shape[0])"
   ]
  },
  {
   "cell_type": "markdown",
   "id": "8c1a5ed8",
   "metadata": {},
   "source": [
    "Теперь определим список всевозможных комбинаций признаков."
   ]
  },
  {
   "cell_type": "code",
   "execution_count": 13,
   "id": "fa3be153",
   "metadata": {},
   "outputs": [
    {
     "data": {
      "text/plain": [
       "1"
      ]
     },
     "execution_count": 13,
     "metadata": {},
     "output_type": "execute_result"
    }
   ],
   "source": [
    "features_list = []\n",
    "\n",
    "for i in range(11, 12):\n",
    "    comb = list(combinations(train_features[2:12].columns, i))\n",
    "    for a in comb:\n",
    "        features_list.append(list(a))\n",
    "    \n",
    "len(features_list)"
   ]
  },
  {
   "cell_type": "markdown",
   "id": "7353d0df",
   "metadata": {},
   "source": [
    "Мы подготовили данные для обучения моделей."
   ]
  },
  {
   "cell_type": "markdown",
   "id": "529f3019",
   "metadata": {},
   "source": [
    "## Обучение и исследование моделей"
   ]
  },
  {
   "cell_type": "markdown",
   "id": "24a052b2",
   "metadata": {},
   "source": [
    "Мы будем использовать два алгоритма классификации в чистом виде с различными гиперпараметрами: решающее дерево и логистическую регрессию. Для каждого алгоритма обучим несколько моделей с разными гиперпараметрами, использующих различные комбинации признаков. Обучение проведем на трех типах данных - на исходной выборке с дисбалансом классов, а также на сбалансированных выборках, полученных расширением или сужением исходной."
   ]
  },
  {
   "cell_type": "markdown",
   "id": "21202269",
   "metadata": {},
   "source": [
    "При обучении на исходной выборке мы будем использовать grid search и его реализацию в sklearn - это просто и удобно.\n",
    "Для обучения на остальных выборках пользоваться им будет некорректно - нам нужно обучиться на модифицированной выборке со сбалансированными классами, а затем проверить модели на несбалансированной валидационной выборке, в то время как GridSearchCV проводит кросс-валидацию на всем выбранном наборе и самостоятельно проводит разбиение - мы не сможем ему указать обучаться на сбалансированных данных и проверять метрики на несбалансированных. "
   ]
  },
  {
   "cell_type": "markdown",
   "id": "c74b2336",
   "metadata": {},
   "source": [
    "Поясним также алгоритм выбора набора признаков. Суммарно всевозможных выборки признаков без повторений 2047 - мы просто не сможем обучить модели на всех таких выборках. Поэтому будем использовать жадный алгоритм. \n",
    "\n",
    "\n",
    "1) Определим переменную cur_features_list как список, состоящий из одного элемента - списка всех признаков. Определим cur_best_model_score как -1.\n",
    "\n",
    "2) На каждом элементе cur_features_list определим лучшую модель на указанном множестве гиперпараметров (с помощью GridSearchCV или руками). Получим множество моделей, из которых выберем лучшую. Ее значение F1-score запишем в переменную iter_best_model_score, а признаки, на которых она была обучена - в переменную iter_best_model_feat\n",
    "\n",
    "3) Если iter_best_model_score больше, чем cur_best_model_score - переопределим cur_features_list как множество всех выборок без повторений на элементах iter_best_model_feat размера _len(iter_best_model_feat) - 1_ и затем вернемся к шагу 2. Иначе завершаем работу алгоритма. \n",
    "\n",
    "\n",
    "Если простым языком - то сперва мы обучаем модель на всех признаках, а затем пытаемся улучшить модель, выкидывая из набора по одному признаку. Если это удалось - выбираем модель с наилучшей метрикой, берем признаки, на которых она получилась, и пытаемся улучшить ее, выкидывая признаки по одному. И так далее до тех пор, пока удалиение признаков дает нам повышение метрики."
   ]
  },
  {
   "cell_type": "markdown",
   "id": "37f5237f",
   "metadata": {},
   "source": [
    "### Обучение на несбалансированных данных"
   ]
  },
  {
   "cell_type": "markdown",
   "id": "531e9337",
   "metadata": {},
   "source": [
    "Во всех ситуациях приведен код, который выбирает наилучшую модель в соответствующем алгоритму обучения пространстве гиперпараметров с помощью Grid Search с использованием кросс-валидации (как мы указывали выше, в случае несбалансированных выборок это возможно), а также полученные наилучшие значения моделей. Чтобы запустить код и осуществить поиск моделей самостоятельно - нужно выставить переменную is_need_learn в значение True в любом месте отчета, начиная с этого. \n",
    "\n",
    "\n",
    "На всякий случай предупреждаю, что общее время выполнения скриптов с этой опцией будет примерно сутки на восьмиядерной машине. Если вкусы ревьюера специфичны, то можно запустить:)"
   ]
  },
  {
   "cell_type": "markdown",
   "id": "1afd4246",
   "metadata": {},
   "source": [
    "#### Случайный лес"
   ]
  },
  {
   "cell_type": "markdown",
   "id": "31843420",
   "metadata": {},
   "source": [
    "Здесь (как и во всех остальных случаях с разными выборками на данном алгоритме обучения) мы будем искать наилучшую модель по следующим гиперпараметрам:\n",
    "\n",
    "* n_estimators - количество решающих деревьев\n",
    "* class_weight - сбалансированность обучения (если значение balanced, то элементы класса, представленного реже в обучающей выборке, будут иметь больший вес при обучении)\n",
    "* max_features - максимальное число признаков, которые содержатся в узловых условиях деревьев\n",
    "* max_depth - максимальная глубина деревьев"
   ]
  },
  {
   "cell_type": "code",
   "execution_count": 14,
   "id": "5c0cb9f7",
   "metadata": {
    "scrolled": true
   },
   "outputs": [],
   "source": [
    "random_forest_class = []\n",
    "random_forest_feat = []\n",
    "\n",
    "if is_need_learn == True:\n",
    "    next_it = True\n",
    "    cur_best_model_score = -1\n",
    "    cur_features_list = features_list\n",
    "    \n",
    "    while next_it or len(cur_features_list) < 1:\n",
    "        next_it = False\n",
    "        iter_best_model_score = -1\n",
    "        iter_best_model_feat = []\n",
    "        \n",
    "        for feat in cur_features_list:\n",
    "            parameters_random_forest = {\n",
    "                'n_estimators' : range(500, 1000, 50),\n",
    "                'class_weight' : ['balanced', None],\n",
    "                'max_features' : range(1, len(feat) + 1),\n",
    "                'criterion': ['gini'],\n",
    "                'max_depth' : range(10, 80, 5),\n",
    "            }\n",
    "            classifier = RandomForestClassifier(random_state = 12345)\n",
    "\n",
    "            random_forest_cv = model_selection.GridSearchCV(classifier, parameters_random_forest, scoring='f1', cv=2)\n",
    "            %time random_forest_cv.fit(main_features[feat], main_target)\n",
    "            random_forest_class.append(random_forest_cv)\n",
    "            random_forest_feat.append(feat)\n",
    "            if random_forest_cv.best_score_ > iter_best_model_score:\n",
    "                iter_best_model_score = random_forest_cv.best_score_\n",
    "                iter_best_model_feat = feat\n",
    "                print('Best F1-score:', iter_best_model_score)\n",
    "        \n",
    "        if iter_best_model_score > cur_best_model_score:\n",
    "            cur_best_model_score = iter_best_model_score\n",
    "            next_it = True\n",
    "            \n",
    "            # generate new features list\n",
    "            cur_features_list = []\n",
    "            comb = list(combinations(feat, len(feat) - 1))\n",
    "            for a in comb:\n",
    "                cur_features_list.append(list(a))\n"
   ]
  },
  {
   "cell_type": "markdown",
   "id": "de965258",
   "metadata": {},
   "source": [
    "Посмотрим на результаты наилучшей модели на несбалансированной обучающей выборке. Помимо F1 метрики также посмотрим на AUC-ROC (площадь под roc-curve)."
   ]
  },
  {
   "cell_type": "code",
   "execution_count": 15,
   "id": "102a79f3",
   "metadata": {
    "scrolled": true
   },
   "outputs": [
    {
     "name": "stdout",
     "output_type": "stream",
     "text": [
      "Best model\n",
      "RandomForestClassifier(class_weight='balanced', max_depth=6, max_features=6,\n",
      "                       n_estimators=31, random_state=12345)\n",
      "F1 score after cv: 0.6103414911520455\n",
      "F1 score on train and valid data: 0.5876288659793814\n",
      "['CreditScore', 'Age', 'Tenure', 'Balance', 'NumOfProducts', 'HasCrCard', 'IsActiveMember', 'Geography_Germany', 'Geography_Spain', 'Gender_Male']\n",
      "AUC-ROC score: 0.7623218308038846\n"
     ]
    }
   ],
   "source": [
    "best_random_forest_classifier = None\n",
    "best_random_forest_features = []\n",
    "\n",
    "if is_need_learn == True:\n",
    "    max_accuracy = 0\n",
    "    max_forest_ind = 0\n",
    "    for i in range(len(random_forest_class)):\n",
    "        print(random_forest_class[i].best_estimator_) \n",
    "        print(random_forest_class[i].best_score_)\n",
    "        print(random_forest_class[i].best_params_)\n",
    "        print(random_forest_feat[i])\n",
    "        print()\n",
    "        if random_forest_class[i].best_score_ > max_accuracy:\n",
    "            max_accuracy = random_forest_class[i].best_score_\n",
    "            max_forest_ind = i\n",
    "\n",
    "    print('Best model')\n",
    "    print(random_forest_class[max_forest_ind].best_estimator_) \n",
    "    print(random_forest_class[max_forest_ind].best_score_)\n",
    "    print(random_forest_class[max_forest_ind].best_params_)\n",
    "    print(random_forest_feat[max_forest_ind])\n",
    "    best_random_forest_classifier = random_forest_class[max_forest_ind].best_estimator_\n",
    "    best_random_forest_features = random_forest_feat[max_forest_ind]\n",
    "else:\n",
    "    best_random_forest_classifier = RandomForestClassifier(class_weight='balanced', max_depth=6, max_features=6,\n",
    "                       n_estimators=31, random_state=12345)\n",
    "    best_random_forest_features = ['CreditScore', 'Age', 'Tenure', 'Balance', 'NumOfProducts', \n",
    "                                   'HasCrCard', 'IsActiveMember', 'Geography_Germany', \n",
    "                                   'Geography_Spain', 'Gender_Male']\n",
    "    best_random_forest_classifier.fit(train_features[best_random_forest_features], train_target)\n",
    "    predicted_target = best_random_forest_classifier.predict(valid_features[best_random_forest_features])\n",
    "    print('Best model')\n",
    "    print(best_random_forest_classifier) \n",
    "    print('F1 score after cv:', 0.6103414911520455)\n",
    "    print('F1 score on train and valid data:', f1_score(valid_target, predicted_target))\n",
    "    print(best_random_forest_features)\n",
    "    print('AUC-ROC score:', roc_auc_score(valid_target, predicted_target))"
   ]
  },
  {
   "cell_type": "markdown",
   "id": "f8538102",
   "metadata": {},
   "source": [
    "#### Логистическая регрессия"
   ]
  },
  {
   "cell_type": "markdown",
   "id": "006b7979",
   "metadata": {},
   "source": [
    "Здесь (как и во всех остальных случаях с разными выборками на данном алгоритме обучения) мы будем искать наилучшую модель по следующим гиперпараметрам:\n",
    "\n",
    "* solver - алгоритм, решающий оптимизационную задачу при обучении (я как всегда выбираю из тех, что не выдают кучу варнингов)\n",
    "* class_weight - сбалансированность обучения (если значение balanced, то элементы класса, представленного реже в обучающей выборке, будут иметь больший вес при обучении)\n",
    "* max_iter - максимальное количество итераций алгоритма, которые можно провести для его сходимости (если число итераций превысило ограничения, а алгоритм не сошелся до нужного трешхолда, то алгоритм прекращает работу)\n",
    "* С - параметр регуляризации. Одна из величин, фигурирующая в задаче оптимизации. Чем она больше, тем более сложные зависимости способна вычленить модель, однако слишком большое значение этого параметра может привести к переобучению. "
   ]
  },
  {
   "cell_type": "code",
   "execution_count": 16,
   "id": "44d5023d",
   "metadata": {
    "scrolled": true
   },
   "outputs": [],
   "source": [
    "lin_reg_class = []\n",
    "lin_reg_feat = []\n",
    "\n",
    "if is_need_learn == True:\n",
    "    next_it = True\n",
    "    cur_best_model_score = -1\n",
    "    cur_features_list = features_list\n",
    "    \n",
    "    while next_it or len(cur_features_list) < 1:\n",
    "        next_it = False\n",
    "        iter_best_model_score = -1\n",
    "        iter_best_model_feat = []\n",
    "        \n",
    "        for feat in cur_features_list:\n",
    "            parameters_log_reg = {\n",
    "                'solver' : ['lbfgs', 'sag', 'saga'],\n",
    "                'class_weight' : ['balanced', None],\n",
    "                'max_iter' : [10000]\n",
    "            }\n",
    "            c_values = np.logspace(-2, 3, 200)\n",
    "\n",
    "            cv = model_selection.StratifiedShuffleSplit(n_splits=5, test_size=0.25, random_state = 12345)\n",
    "            classifier = LogisticRegressionCV(Cs=c_values, cv=cv, random_state = 12345)\n",
    "\n",
    "            lin_reg_cv = model_selection.GridSearchCV(classifier, parameters_log_reg, scoring='f1', cv=2)\n",
    "            %time lin_reg_cv.fit(main_features[feat], main_target)\n",
    "            lin_reg_class.append(lin_reg_cv)\n",
    "            lin_reg_feat.append(feat)\n",
    "            if lin_reg_cv.best_score_ > iter_best_model_score:\n",
    "                iter_best_model_score = lin_reg_cv.best_score_\n",
    "                iter_best_model_feat = feat\n",
    "                print('Best F1-score:', iter_best_model_score)\n",
    "        \n",
    "        if iter_best_model_score > cur_best_model_score:\n",
    "            cur_best_model_score = iter_best_model_score\n",
    "            next_it = True\n",
    "            \n",
    "            # generate new features list\n",
    "            cur_features_list = []\n",
    "            comb = list(combinations(feat, len(feat) - 1))\n",
    "            for a in comb:\n",
    "                cur_features_list.append(list(a))\n"
   ]
  },
  {
   "cell_type": "markdown",
   "id": "aae5f9d9",
   "metadata": {},
   "source": [
    "Посмотрим на результаты наилучшей модели на несбалансированной обучающей выборке. Помимо F1 метрики также посмотрим на AUC-ROC (площадь под roc-curve)."
   ]
  },
  {
   "cell_type": "code",
   "execution_count": 17,
   "id": "8644a6cf",
   "metadata": {},
   "outputs": [
    {
     "name": "stdout",
     "output_type": "stream",
     "text": [
      "Best model\n",
      "LogisticRegression(class_weight='balanced', max_iter=10000, random_state=12345)\n",
      "F1 score after cv: 0.4549333024905544\n",
      "F1 score on train and valid data: 0.47322970639032813\n",
      "['Age', 'Tenure', 'Balance', 'NumOfProducts', 'HasCrCard', 'IsActiveMember', 'Geography_Germany', 'Geography_Spain', 'Gender_Male']\n",
      "AUC-ROC score: 0.6863806727964255\n"
     ]
    }
   ],
   "source": [
    "best_lin_reg_classifier = None\n",
    "best_lin_reg_features = []\n",
    "\n",
    "if is_need_learn == True:\n",
    "    max_accuracy = 0\n",
    "    max_log_ind = 0\n",
    "    for i in range(len(lin_reg_class)):\n",
    "        print(lin_reg_class[i].best_estimator_) \n",
    "        print(lin_reg_class[i].best_score_)\n",
    "        print(lin_reg_class[i].best_params_)\n",
    "        print(lin_reg_feat[i])\n",
    "        print()\n",
    "        if lin_reg_class[i].best_score_ > max_accuracy:\n",
    "            max_accuracy = lin_reg_class[i].best_score_\n",
    "            max_log_ind = i\n",
    "\n",
    "    print('Best model')\n",
    "    print(lin_reg_class[max_log_ind].best_estimator_) \n",
    "    print(lin_reg_class[max_log_ind].best_score_)\n",
    "    print(lin_reg_class[max_log_ind].best_params_)\n",
    "    print(lin_reg_feat[max_log_ind])\n",
    "    best_lin_reg_classifier = lin_reg_class[max_log_ind].best_estimator_\n",
    "    best_lin_reg_features = lin_reg_feat[max_log_ind]\n",
    "else:\n",
    "    best_lin_reg_classifier = LogisticRegression(class_weight='balanced', solver='lbfgs', \n",
    "                                                 max_iter=10000, random_state=12345)\n",
    "    best_lin_reg_features = ['Age', 'Tenure', 'Balance', 'NumOfProducts', 'HasCrCard', \n",
    "                             'IsActiveMember', 'Geography_Germany', 'Geography_Spain', 'Gender_Male']\n",
    "    best_lin_reg_classifier.fit(train_features[best_lin_reg_features], train_target)\n",
    "    predicted_target = best_lin_reg_classifier.predict(valid_features[best_lin_reg_features])\n",
    "    print('Best model')\n",
    "    print(best_lin_reg_classifier) \n",
    "    print('F1 score after cv:', 0.4549333024905544)\n",
    "    print('F1 score on train and valid data:', f1_score(valid_target, predicted_target))\n",
    "    print(best_lin_reg_features)\n",
    "    print('AUC-ROC score:', roc_auc_score(valid_target, predicted_target))"
   ]
  },
  {
   "cell_type": "markdown",
   "id": "94d146af",
   "metadata": {},
   "source": [
    "Так как мы имеем дело с логистической регрессией, мы можем посмотреть на значения метрик с изменением еще одного гиперпараметра - значение пороговой величины отнесения клиентов к определенным классам. Построим на основании изменения этой величины график PR"
   ]
  },
  {
   "cell_type": "code",
   "execution_count": 18,
   "id": "8546d41c",
   "metadata": {
    "scrolled": true
   },
   "outputs": [],
   "source": [
    "def print_pr_curve(best_classifier, best_features, features, target):\n",
    "    probabilities_valid = best_classifier.predict_proba(features[best_features])\n",
    "    probabilities_one_valid = probabilities_valid[:, 1]\n",
    "\n",
    "    for threshold in np.arange(0, 0.95, 0.05):\n",
    "        predicted_valid = probabilities_one_valid > threshold\n",
    "        precision = precision_score(target, predicted_valid)\n",
    "        recall = recall_score(target, predicted_valid)\n",
    "        f1 = f1_score(target, predicted_valid)\n",
    "        print('Threshold = {:.2f} | Precision = {:.3f}, Recall = {:.3f} | F1-score = {:.3f}'.format(\n",
    "            threshold, precision, recall, f1))\n",
    "\n",
    "    precision, recall, thresholds = precision_recall_curve(target, probabilities_valid[:, 1])    \n",
    "    plt.figure(figsize=(16, 10))\n",
    "    plt.step(recall, precision, where='post')\n",
    "    plt.xlabel('Recall')\n",
    "    plt.ylabel('Precision')\n",
    "    plt.ylim([0.0, 1.05])\n",
    "    plt.xlim([0.0, 1.0])\n",
    "    plt.title('PR curve')\n",
    "    plt.show() "
   ]
  },
  {
   "cell_type": "code",
   "execution_count": 19,
   "id": "d37e10ea",
   "metadata": {},
   "outputs": [
    {
     "name": "stdout",
     "output_type": "stream",
     "text": [
      "Threshold = 0.00 | Precision = 0.204, Recall = 1.000 | F1-score = 0.339\n",
      "Threshold = 0.05 | Precision = 0.204, Recall = 0.998 | F1-score = 0.338\n",
      "Threshold = 0.10 | Precision = 0.208, Recall = 0.995 | F1-score = 0.344\n",
      "Threshold = 0.15 | Precision = 0.215, Recall = 0.975 | F1-score = 0.353\n",
      "Threshold = 0.20 | Precision = 0.231, Recall = 0.961 | F1-score = 0.372\n",
      "Threshold = 0.25 | Precision = 0.250, Recall = 0.926 | F1-score = 0.394\n",
      "Threshold = 0.30 | Precision = 0.270, Recall = 0.904 | F1-score = 0.416\n",
      "Threshold = 0.35 | Precision = 0.295, Recall = 0.865 | F1-score = 0.440\n",
      "Threshold = 0.40 | Precision = 0.316, Recall = 0.804 | F1-score = 0.454\n",
      "Threshold = 0.45 | Precision = 0.341, Recall = 0.743 | F1-score = 0.468\n",
      "Threshold = 0.50 | Precision = 0.365, Recall = 0.672 | F1-score = 0.473\n",
      "Threshold = 0.55 | Precision = 0.404, Recall = 0.615 | F1-score = 0.487\n",
      "Threshold = 0.60 | Precision = 0.443, Recall = 0.544 | F1-score = 0.488\n",
      "Threshold = 0.65 | Precision = 0.482, Recall = 0.471 | F1-score = 0.476\n",
      "Threshold = 0.70 | Precision = 0.493, Recall = 0.355 | F1-score = 0.413\n",
      "Threshold = 0.75 | Precision = 0.531, Recall = 0.272 | F1-score = 0.360\n",
      "Threshold = 0.80 | Precision = 0.531, Recall = 0.186 | F1-score = 0.276\n",
      "Threshold = 0.85 | Precision = 0.584, Recall = 0.110 | F1-score = 0.186\n",
      "Threshold = 0.90 | Precision = 0.586, Recall = 0.042 | F1-score = 0.078\n"
     ]
    },
    {
     "data": {
      "image/png": "[encoded data removed]",
      "text/plain": [
       "<Figure size 1152x720 with 1 Axes>"
      ]
     },
     "metadata": {
      "needs_background": "light"
     },
     "output_type": "display_data"
    }
   ],
   "source": [
    "print_pr_curve(best_lin_reg_classifier, best_lin_reg_features, valid_features, valid_target)"
   ]
  },
  {
   "cell_type": "markdown",
   "id": "eb5a3c38",
   "metadata": {},
   "source": [
    "### Обучение на расширенной выборке"
   ]
  },
  {
   "cell_type": "markdown",
   "id": "facfe786",
   "metadata": {},
   "source": [
    "Что касается расширенной и суженной (укороченной выборки, а не невесты) выборок - здесь нам нужно обучиться на модифицированных выборках с одинаковым количеством классов, а проверить метрики на выборках с дисбалансом классов. Так как GridCearchCV (как и все остальные классы sklearn, проводящие перебор параметров) выбирают наилучший класс с гиперпараметрами с учетом кросс-валидации поданного ей на вход набора данных (то есть, обучающая и валидационная выборка будут нарезаны классом самостоятельно), мы не сможем модифицировать только обучающую выборку. Поэтому нам придется руками реализовать собственный Grid Search, который решит поставленную задачу."
   ]
  },
  {
   "cell_type": "markdown",
   "id": "4960df04",
   "metadata": {},
   "source": [
    "#### Случайный лес"
   ]
  },
  {
   "cell_type": "markdown",
   "id": "d7f8e586",
   "metadata": {},
   "source": [
    "Производим перебор по тому же самому набору гиперпараметров, что и раньше"
   ]
  },
  {
   "cell_type": "code",
   "execution_count": 20,
   "id": "f645fd75",
   "metadata": {},
   "outputs": [],
   "source": [
    "# Функция, которая для словаря множества аргументов создаст список всевозможных комбинаций аргументов\n",
    "def product_dict(inp):\n",
    "    return [dict(zip(inp.keys(), values)) for values in product(*inp.values())]"
   ]
  },
  {
   "cell_type": "code",
   "execution_count": 21,
   "id": "123d38cc",
   "metadata": {
    "scrolled": true
   },
   "outputs": [],
   "source": [
    "random_forest_up_param = []\n",
    "random_forest_up_feat = []\n",
    "\n",
    "if is_need_learn == True:\n",
    "    next_it = True\n",
    "    cur_best_model_score = -1\n",
    "    cur_features_list = features_list\n",
    "    \n",
    "    while next_it or len(cur_features_list) < 1:\n",
    "        next_it = False\n",
    "        iter_best_model_score = -1\n",
    "        iter_best_model_feat = []\n",
    "        \n",
    "        for feat in cur_features_list:\n",
    "            print(feat)\n",
    "            feat_score = -1\n",
    "            feat_param = []\n",
    "            \n",
    "            parameters_random_forest = {\n",
    "                'n_estimators' : range(500, 1000, 50),\n",
    "                'class_weight' : ['balanced', None],\n",
    "                'max_features' : range(1, len(feat) + 1),\n",
    "                'criterion': ['gini'],\n",
    "                'max_depth' : range(10, 80, 5),\n",
    "            }\n",
    "\n",
    "            kwarg_params = product_dict(parameters_random_forest)\n",
    "\n",
    "            for param in kwarg_params:\n",
    "                classifier = RandomForestClassifier(**param)\n",
    "                classifier.fit(features_upsampled[feat], target_upsampled)\n",
    "                predicted = classifier.predict(valid_features[feat])\n",
    "                f1_val = f1_score(valid_target, predicted)\n",
    "                if f1_val > feat_score:\n",
    "                    feat_score = f1_val\n",
    "                    feat_param = param\n",
    "                \n",
    "            random_forest_up_param.append(feat_param)\n",
    "            random_forest_up_feat.append(feat)\n",
    "            if feat_score > iter_best_model_score:\n",
    "                iter_best_model_score = feat_score\n",
    "                iter_best_model_feat = feat\n",
    "                print('Best F1-score:', iter_best_model_score)\n",
    "        \n",
    "        if iter_best_model_score > cur_best_model_score:\n",
    "            cur_best_model_score = iter_best_model_score\n",
    "            next_it = True\n",
    "            \n",
    "            # generate new features list\n",
    "            cur_features_list = []\n",
    "            comb = list(combinations(feat, len(feat) - 1))\n",
    "            for a in comb:\n",
    "                cur_features_list.append(list(a))\n"
   ]
  },
  {
   "cell_type": "markdown",
   "id": "1dc90ddd",
   "metadata": {},
   "source": [
    "Посмотрим на результаты наилучшей модели на несбалансированной обучающей выборке. Помимо F1 метрики также посмотрим на AUC-ROC (площадь под roc-curve)."
   ]
  },
  {
   "cell_type": "code",
   "execution_count": 22,
   "id": "53bbc901",
   "metadata": {
    "scrolled": true
   },
   "outputs": [
    {
     "name": "stdout",
     "output_type": "stream",
     "text": [
      "Best model\n",
      "RandomForestClassifier(max_depth=11, max_features=2, n_estimators=61,\n",
      "                       random_state=12345)\n",
      "F1 score on train and valid data: 0.6022727272727273\n",
      "AUC-ROC score: 0.7597831505483549\n",
      "Features:\n",
      "['CreditScore', 'Age', 'Tenure', 'Balance', 'NumOfProducts', 'HasCrCard', 'IsActiveMember', 'EstimatedSalary', 'Geography_Germany', 'Geography_Spain', 'Gender_Male']\n"
     ]
    }
   ],
   "source": [
    "if is_need_learn != True:\n",
    "    random_forest_up_param.append({'random_state' : 12345, 'n_estimators': 61, 'max_features': 2, 'criterion': 'gini', 'max_depth': 11})\n",
    "    random_forest_up_feat.append(['CreditScore', 'Age', 'Tenure', 'Balance', 'NumOfProducts', 'HasCrCard', 'IsActiveMember', 'EstimatedSalary', 'Geography_Germany', 'Geography_Spain', 'Gender_Male'])\n",
    "    \n",
    "    random_forest_up_param.append({'random_state' : 12345, 'n_estimators': 51, 'max_features': 2, 'criterion': 'gini', 'max_depth': 11})\n",
    "    random_forest_up_feat.append(['CreditScore', 'Age', 'Tenure', 'Balance', 'NumOfProducts', 'HasCrCard', 'IsActiveMember', 'EstimatedSalary', 'Geography_Germany', 'Geography_Spain'])\n",
    "    \n",
    "    random_forest_up_param.append({'random_state' : 12345, 'n_estimators': 111, 'max_features': 3, 'criterion': 'gini', 'max_depth': 11})\n",
    "    random_forest_up_feat.append(['CreditScore', 'Age', 'Tenure', 'Balance', 'NumOfProducts', 'HasCrCard', 'IsActiveMember', 'EstimatedSalary', 'Geography_Germany', 'Gender_Male'])\n",
    "    \n",
    "    random_forest_up_param.append({'random_state' : 12345, 'n_estimators': 71, 'max_features': 2, 'criterion': 'gini', 'max_depth': 11})\n",
    "    random_forest_up_feat.append(['CreditScore', 'Age', 'Tenure', 'Balance', 'NumOfProducts', 'HasCrCard', 'IsActiveMember', 'EstimatedSalary', 'Geography_Spain', 'Gender_Male'])\n",
    "    \n",
    "    random_forest_up_param.append({'random_state' : 12345, 'n_estimators': 51, 'max_features': 3, 'criterion': 'gini', 'max_depth': 11})\n",
    "    random_forest_up_feat.append(['CreditScore', 'Age', 'Tenure', 'Balance', 'NumOfProducts', 'HasCrCard', 'IsActiveMember', 'Geography_Germany', 'Geography_Spain', 'Gender_Male'])\n",
    "    \n",
    "    random_forest_up_param.append({'random_state' : 12345, 'n_estimators': 141, 'max_features': 2, 'criterion': 'gini', 'max_depth': 11})\n",
    "    random_forest_up_feat.append(['CreditScore', 'Age', 'Tenure', 'Balance', 'NumOfProducts', 'HasCrCard', 'EstimatedSalary', 'Geography_Germany', 'Geography_Spain', 'Gender_Male'])\n",
    "    \n",
    "    random_forest_up_param.append({'random_state' : 12345, 'n_estimators': 131, 'max_features': 1, 'criterion': 'gini', 'max_depth': 11})\n",
    "    random_forest_up_feat.append(['CreditScore', 'Age', 'Tenure', 'Balance', 'NumOfProducts', 'IsActiveMember', 'EstimatedSalary', 'Geography_Germany', 'Geography_Spain', 'Gender_Male'])\n",
    "    \n",
    "    random_forest_up_param.append({'random_state' : 12345, 'n_estimators': 41, 'max_features': 5, 'criterion': 'gini', 'max_depth': 11})\n",
    "    random_forest_up_feat.append(['CreditScore', 'Age', 'Tenure', 'Balance', 'HasCrCard', 'IsActiveMember', 'EstimatedSalary', 'Geography_Germany', 'Geography_Spain', 'Gender_Male'])\n",
    "    \n",
    "    random_forest_up_param.append({'random_state' : 12345, 'n_estimators': 101, 'max_features': 3, 'criterion': 'gini', 'max_depth': 11})\n",
    "    random_forest_up_feat.append(['CreditScore', 'Age', 'Tenure', 'NumOfProducts', 'HasCrCard', 'IsActiveMember', 'EstimatedSalary', 'Geography_Germany', 'Geography_Spain', 'Gender_Male'])\n",
    "\n",
    "    random_forest_up_param.append({'random_state' : 12345, 'n_estimators': 91, 'max_features': 3, 'criterion': 'gini', 'max_depth': 11})\n",
    "    random_forest_up_feat.append(['CreditScore', 'Age', 'Balance', 'NumOfProducts', 'HasCrCard', 'IsActiveMember', 'EstimatedSalary', 'Geography_Germany', 'Geography_Spain', 'Gender_Male'])\n",
    "\n",
    "    random_forest_up_param.append({'random_state' : 12345, 'n_estimators': 21, 'max_features': 7, 'criterion': 'gini', 'max_depth': 6})\n",
    "    random_forest_up_feat.append(['CreditScore', 'Tenure', 'Balance', 'NumOfProducts', 'HasCrCard', 'IsActiveMember', 'EstimatedSalary', 'Geography_Germany', 'Geography_Spain', 'Gender_Male'])\n",
    "\n",
    "    random_forest_up_param.append({'random_state' : 12345, 'n_estimators': 51, 'max_features': 3, 'criterion': 'gini', 'max_depth': 11})\n",
    "    random_forest_up_feat.append(['Age', 'Tenure', 'Balance', 'NumOfProducts', 'HasCrCard', 'IsActiveMember', 'EstimatedSalary', 'Geography_Germany', 'Geography_Spain', 'Gender_Male'])\n",
    "\n",
    "    random_forest_up_param.append({'random_state' : 12345, 'n_estimators': 51, 'max_features': 1, 'criterion': 'gini', 'max_depth': 11})\n",
    "    random_forest_up_feat.append(['Age', 'Tenure', 'Balance', 'NumOfProducts', 'HasCrCard', 'IsActiveMember', 'EstimatedSalary', 'Geography_Germany', 'Geography_Spain'])\n",
    "\n",
    "    random_forest_up_param.append({'random_state' : 12345, 'n_estimators': 41, 'max_features': 4, 'criterion': 'gini', 'max_depth': 11})\n",
    "    random_forest_up_feat.append(['Age', 'Tenure', 'Balance', 'NumOfProducts', 'HasCrCard', 'IsActiveMember', 'EstimatedSalary', 'Geography_Germany', 'Gender_Male'])\n",
    "\n",
    "    random_forest_up_param.append({'random_state' : 12345, 'n_estimators': 91, 'max_features': 3, 'criterion': 'gini', 'max_depth': 11})\n",
    "    random_forest_up_feat.append(['Age', 'Tenure', 'Balance', 'NumOfProducts', 'HasCrCard', 'IsActiveMember', 'EstimatedSalary', 'Geography_Spain', 'Gender_Male'])\n",
    "\n",
    "    random_forest_up_param.append({'random_state' : 12345, 'n_estimators': 61, 'max_features': 2, 'criterion': 'gini', 'max_depth': 11})\n",
    "    random_forest_up_feat.append(['Age', 'Tenure', 'Balance', 'NumOfProducts', 'HasCrCard', 'IsActiveMember', 'Geography_Germany', 'Geography_Spain', 'Gender_Male'])\n",
    "\n",
    "    random_forest_up_param.append({'random_state' : 12345, 'n_estimators': 31, 'max_features': 2, 'criterion': 'gini', 'max_depth': 11})\n",
    "    random_forest_up_feat.append(['Age', 'Tenure', 'Balance', 'NumOfProducts', 'HasCrCard', 'EstimatedSalary', 'Geography_Germany', 'Geography_Spain', 'Gender_Male'])\n",
    "\n",
    "    random_forest_up_param.append({'random_state' : 12345, 'n_estimators': 111, 'max_features': 2, 'criterion': 'gini', 'max_depth': 11})\n",
    "    random_forest_up_feat.append(['Age', 'Tenure', 'Balance', 'NumOfProducts', 'IsActiveMember', 'EstimatedSalary', 'Geography_Germany', 'Geography_Spain', 'Gender_Male'])\n",
    "\n",
    "    random_forest_up_param.append({'random_state' : 12345, 'n_estimators': 121, 'max_features': 3, 'criterion': 'gini', 'max_depth': 6})\n",
    "    random_forest_up_feat.append(['Age', 'Tenure', 'Balance', 'HasCrCard', 'IsActiveMember', 'EstimatedSalary', 'Geography_Germany', 'Geography_Spain', 'Gender_Male'])\n",
    "\n",
    "    random_forest_up_param.append({'random_state' : 12345, 'n_estimators': 101, 'max_features': 2, 'criterion': 'gini', 'max_depth': 11})\n",
    "    random_forest_up_feat.append(['Age', 'Tenure', 'NumOfProducts', 'HasCrCard', 'IsActiveMember', 'EstimatedSalary', 'Geography_Germany', 'Geography_Spain', 'Gender_Male'])\n",
    "\n",
    "    random_forest_up_param.append({'random_state' : 12345, 'n_estimators': 51, 'max_features': 2, 'criterion': 'gini', 'max_depth': 11})\n",
    "    random_forest_up_feat.append(['Age', 'Balance', 'NumOfProducts', 'HasCrCard', 'IsActiveMember', 'EstimatedSalary', 'Geography_Germany', 'Geography_Spain', 'Gender_Male'])\n",
    "\n",
    "    random_forest_up_param.append({'random_state' : 12345, 'n_estimators': 91, 'max_features': 6, 'criterion': 'gini', 'max_depth': 6})\n",
    "    random_forest_up_feat.append(['Tenure', 'Balance', 'NumOfProducts', 'HasCrCard', 'IsActiveMember', 'EstimatedSalary', 'Geography_Germany', 'Geography_Spain', 'Gender_Male'])\n",
    "\n",
    "random_forest_up_models = []\n",
    "random_forest_up_best_score = -1\n",
    "random_forest_up_best_ind = -1\n",
    "auc_roc_score = -1\n",
    "\n",
    "for i in range(len(random_forest_up_param)):\n",
    "    classifier = RandomForestClassifier(**random_forest_up_param[i])\n",
    "    features = random_forest_up_feat[i]\n",
    "    classifier.fit(features_upsampled[features], target_upsampled)\n",
    "    random_forest_up_models.append(classifier)\n",
    "    predicted_target = classifier.predict(valid_features[features])\n",
    "    cur_score = f1_score(valid_target, predicted_target)\n",
    "    if (cur_score > random_forest_up_best_score):\n",
    "        random_forest_up_best_score = cur_score\n",
    "        random_forest_up_best_ind = i\n",
    "        auc_roc_score = roc_auc_score(valid_target, predicted_target)\n",
    "    \n",
    "print('Best model')\n",
    "print(random_forest_up_models[random_forest_up_best_ind])\n",
    "print('F1 score on train and valid data:', random_forest_up_best_score)\n",
    "print('AUC-ROC score:', auc_roc_score)\n",
    "print('Features:')\n",
    "print(random_forest_up_feat[random_forest_up_best_ind])"
   ]
  },
  {
   "cell_type": "markdown",
   "id": "f23ef236",
   "metadata": {},
   "source": [
    "#### Логистическая регрессия"
   ]
  },
  {
   "cell_type": "markdown",
   "id": "86e94999",
   "metadata": {},
   "source": [
    "Производим перебор по тому же самому набору гиперпараметров, что и раньше"
   ]
  },
  {
   "cell_type": "code",
   "execution_count": 23,
   "id": "99965672",
   "metadata": {
    "scrolled": true
   },
   "outputs": [],
   "source": [
    "lin_reg_up_param = []\n",
    "lin_reg_up_feat = []\n",
    "\n",
    "if is_need_learn == True:\n",
    "    next_it = True\n",
    "    cur_best_model_score = -1\n",
    "    cur_features_list = features_list\n",
    "    \n",
    "    while next_it or len(cur_features_list) < 1:\n",
    "        next_it = False\n",
    "        iter_best_model_score = -1\n",
    "        iter_best_model_feat = []\n",
    "        \n",
    "        for feat in cur_features_list:\n",
    "            print(feat)\n",
    "            feat_score = -1\n",
    "            feat_param = []\n",
    "            \n",
    "            parameters_log_reg = {\n",
    "                'random_state' : [12345],\n",
    "                'solver' : ['lbfgs', 'sag', 'saga'],\n",
    "                'max_iter' : [10000],\n",
    "                'C' : np.logspace(-2, 3, 200)\n",
    "            }\n",
    "            kwarg_params = product_dict(parameters_log_reg)\n",
    "\n",
    "            for param in kwarg_params:\n",
    "                classifier = LogisticRegression(**param)\n",
    "                classifier.fit(features_upsampled[feat], target_upsampled)\n",
    "                predicted = classifier.predict(valid_features[feat])\n",
    "                f1_val = f1_score(valid_target, predicted)\n",
    "                if f1_val > feat_score:\n",
    "                    feat_score = f1_val\n",
    "                    feat_param = param\n",
    "                \n",
    "            lin_reg_up_param.append(feat_param)\n",
    "            lin_reg_up_feat.append(feat)\n",
    "            if feat_score > iter_best_model_score:\n",
    "                iter_best_model_score = feat_score\n",
    "                iter_best_model_feat = feat\n",
    "                print('Best F1-score:', iter_best_model_score)\n",
    "        \n",
    "        if iter_best_model_score > cur_best_model_score:\n",
    "            cur_best_model_score = iter_best_model_score\n",
    "            next_it = True\n",
    "            \n",
    "            # generate new features list\n",
    "            cur_features_list = []\n",
    "            comb = list(combinations(feat, len(feat) - 1))\n",
    "            for a in comb:\n",
    "                cur_features_list.append(list(a))\n"
   ]
  },
  {
   "cell_type": "markdown",
   "id": "449607a1",
   "metadata": {},
   "source": [
    "Посмотрим на результаты наилучшей модели на несбалансированной обучающей выборке. Помимо F1 метрики также посмотрим на AUC-ROC (площадь под roc-curve)."
   ]
  },
  {
   "cell_type": "code",
   "execution_count": 24,
   "id": "d4fcc6eb",
   "metadata": {
    "scrolled": true
   },
   "outputs": [
    {
     "name": "stdout",
     "output_type": "stream",
     "text": [
      "Best model\n",
      "LogisticRegression(C=0.016831803533309566, max_iter=10000, random_state=12345)\n",
      "F1 score on train and valid data: 0.48490077653149266\n",
      "AUC-ROC score: 0.6968423433403493\n",
      "Features:\n",
      "['Age', 'Tenure', 'Balance', 'NumOfProducts', 'HasCrCard', 'EstimatedSalary', 'Geography_Germany', 'Geography_Spain', 'Gender_Male']\n"
     ]
    }
   ],
   "source": [
    "if is_need_learn != True:\n",
    "    lin_reg_up_param.append({'random_state' : 12345, 'solver': 'lbfgs', 'max_iter': 10000, 'C': 0.04500557675700498})\n",
    "    lin_reg_up_feat.append(['CreditScore', 'Age', 'Tenure', 'Balance', 'NumOfProducts', 'HasCrCard', 'IsActiveMember', 'EstimatedSalary', 'Geography_Germany', 'Geography_Spain', 'Gender_Male'])\n",
    "\n",
    "    lin_reg_up_param.append({'random_state' : 12345, 'solver': 'lbfgs', 'max_iter': 10000, 'C': 0.01})\n",
    "    lin_reg_up_feat.append(['CreditScore', 'Age', 'Tenure', 'Balance', 'NumOfProducts', 'HasCrCard', 'IsActiveMember', 'EstimatedSalary', 'Geography_Germany', 'Geography_Spain'])\n",
    "\n",
    "    lin_reg_up_param.append({'random_state' : 12345, 'solver': 'lbfgs', 'max_iter': 10000, 'C': 0.023816855519761582})\n",
    "    lin_reg_up_feat.append(['CreditScore', 'Age', 'Tenure', 'Balance', 'NumOfProducts', 'HasCrCard', 'IsActiveMember', 'EstimatedSalary', 'Geography_Germany', 'Gender_Male'])\n",
    "\n",
    "    lin_reg_up_param.append({'random_state' : 12345, 'solver': 'lbfgs', 'max_iter': 10000, 'C': 0.011226677735108135})\n",
    "    lin_reg_up_feat.append(['CreditScore', 'Age', 'Tenure', 'Balance', 'NumOfProducts', 'HasCrCard', 'IsActiveMember', 'EstimatedSalary', 'Geography_Spain', 'Gender_Male'])\n",
    "\n",
    "    lin_reg_up_param.append({'random_state' : 12345, 'solver': 'lbfgs', 'max_iter': 10000, 'C': 0.017834308769319095})\n",
    "    lin_reg_up_feat.append(['CreditScore', 'Age', 'Tenure', 'Balance', 'NumOfProducts', 'HasCrCard', 'IsActiveMember', 'Geography_Germany', 'Geography_Spain', 'Gender_Male'])\n",
    "\n",
    "    lin_reg_up_param.append({'random_state' : 12345, 'solver': 'lbfgs', 'max_iter': 10000, 'C': 0.01})\n",
    "    lin_reg_up_feat.append(['CreditScore', 'Age', 'Tenure', 'Balance', 'NumOfProducts', 'HasCrCard', 'EstimatedSalary', 'Geography_Germany', 'Geography_Spain', 'Gender_Male'])\n",
    "\n",
    "    lin_reg_up_param.append({'random_state' : 12345, 'solver': 'lbfgs', 'max_iter': 10000, 'C': 0.010595601792776159})\n",
    "    lin_reg_up_feat.append(['CreditScore', 'Age', 'Tenure', 'Balance', 'NumOfProducts', 'IsActiveMember', 'EstimatedSalary', 'Geography_Germany', 'Geography_Spain', 'Gender_Male'])\n",
    "\n",
    "    lin_reg_up_param.append({'random_state' : 12345, 'solver': 'saga', 'max_iter': 10000, 'C': 0.02247805833548725})\n",
    "    lin_reg_up_feat.append(['CreditScore', 'Age', 'Tenure', 'Balance', 'HasCrCard', 'IsActiveMember', 'EstimatedSalary', 'Geography_Germany', 'Geography_Spain', 'Gender_Male'])\n",
    "\n",
    "    lin_reg_up_param.append({'random_state' : 12345, 'solver': 'lbfgs', 'max_iter': 10000, 'C': 0.011226677735108135})\n",
    "    lin_reg_up_feat.append(['CreditScore', 'Age', 'Tenure', 'NumOfProducts', 'HasCrCard', 'IsActiveMember', 'EstimatedSalary', 'Geography_Germany', 'Geography_Spain', 'Gender_Male'])\n",
    "\n",
    "    lin_reg_up_param.append({'random_state' : 12345, 'solver': 'sag', 'max_iter': 10000, 'C': 0.01})\n",
    "    lin_reg_up_feat.append(['CreditScore', 'Age', 'Balance', 'NumOfProducts', 'HasCrCard', 'IsActiveMember', 'EstimatedSalary', 'Geography_Germany', 'Geography_Spain', 'Gender_Male'])\n",
    "\n",
    "    lin_reg_up_param.append({'random_state' : 12345, 'solver': 'lbfgs', 'max_iter': 10000, 'C': 2.171117945694505})\n",
    "    lin_reg_up_feat.append(['CreditScore', 'Tenure', 'Balance', 'NumOfProducts', 'HasCrCard', 'IsActiveMember', 'EstimatedSalary', 'Geography_Germany', 'Geography_Spain', 'Gender_Male'])\n",
    "\n",
    "    lin_reg_up_param.append({'random_state' : 12345, 'solver': 'lbfgs', 'max_iter': 10000, 'C': 0.020022003718155844})\n",
    "    lin_reg_up_feat.append(['Age', 'Tenure', 'Balance', 'NumOfProducts', 'HasCrCard', 'IsActiveMember', 'EstimatedSalary', 'Geography_Germany', 'Geography_Spain', 'Gender_Male'])\n",
    "\n",
    "    lin_reg_up_param.append({'random_state' : 12345, 'solver': 'lbfgs', 'max_iter': 10000, 'C': 0.01})\n",
    "    lin_reg_up_feat.append(['Age', 'Tenure', 'Balance', 'NumOfProducts', 'HasCrCard', 'IsActiveMember', 'EstimatedSalary', 'Geography_Germany', 'Geography_Spain'])\n",
    "\n",
    "    lin_reg_up_param.append({'random_state' : 12345, 'solver': 'lbfgs', 'max_iter': 10000, 'C': 0.023816855519761582})\n",
    "    lin_reg_up_feat.append(['Age', 'Tenure', 'Balance', 'NumOfProducts', 'HasCrCard', 'IsActiveMember', 'EstimatedSalary', 'Geography_Germany', 'Gender_Male'])\n",
    "\n",
    "    lin_reg_up_param.append({'random_state' : 12345, 'solver': 'lbfgs', 'max_iter': 10000, 'C': 0.013354515629298987})\n",
    "    lin_reg_up_feat.append(['Age', 'Tenure', 'Balance', 'NumOfProducts', 'HasCrCard', 'IsActiveMember', 'EstimatedSalary', 'Geography_Spain', 'Gender_Male'])\n",
    "\n",
    "    lin_reg_up_param.append({'random_state' : 12345, 'solver': 'lbfgs', 'max_iter': 10000, 'C': 0.04768611697714469})\n",
    "    lin_reg_up_feat.append(['Age', 'Tenure', 'Balance', 'NumOfProducts', 'HasCrCard', 'IsActiveMember', 'Geography_Germany', 'Geography_Spain', 'Gender_Male'])\n",
    "\n",
    "    lin_reg_up_param.append({'random_state' : 12345, 'solver': 'lbfgs', 'max_iter': 10000, 'C': 0.016831803533309566})\n",
    "    lin_reg_up_feat.append(['Age', 'Tenure', 'Balance', 'NumOfProducts', 'HasCrCard', 'EstimatedSalary', 'Geography_Germany', 'Geography_Spain', 'Gender_Male'])\n",
    "\n",
    "    lin_reg_up_param.append({'random_state' : 12345, 'solver': 'lbfgs', 'max_iter': 10000, 'C': 0.8603464416684504})\n",
    "    lin_reg_up_feat.append(['Age', 'Tenure', 'Balance', 'NumOfProducts', 'IsActiveMember', 'EstimatedSalary', 'Geography_Germany', 'Geography_Spain', 'Gender_Male'])\n",
    "\n",
    "    lin_reg_up_param.append({'random_state' : 12345, 'solver': 'lbfgs', 'max_iter': 10000, 'C': 0.02523539170434766})\n",
    "    lin_reg_up_feat.append(['Age', 'Tenure', 'Balance', 'HasCrCard', 'IsActiveMember', 'EstimatedSalary', 'Geography_Germany', 'Geography_Spain', 'Gender_Male'])\n",
    "\n",
    "    lin_reg_up_param.append({'random_state' : 12345, 'solver': 'lbfgs', 'max_iter': 10000, 'C': 0.012603829296797275})\n",
    "    lin_reg_up_feat.append(['Age', 'Tenure', 'NumOfProducts', 'HasCrCard', 'IsActiveMember', 'EstimatedSalary', 'Geography_Germany', 'Geography_Spain', 'Gender_Male'])\n",
    "\n",
    "    lin_reg_up_param.append({'random_state' : 12345, 'solver': 'lbfgs', 'max_iter': 10000, 'C': 0.015885651294280528})\n",
    "    lin_reg_up_feat.append(['Age', 'Balance', 'NumOfProducts', 'HasCrCard', 'IsActiveMember', 'EstimatedSalary', 'Geography_Germany', 'Geography_Spain', 'Gender_Male'])\n",
    "\n",
    "    lin_reg_up_param.append({'random_state' : 12345, 'solver': 'lbfgs', 'max_iter': 10000, 'C': 0.014992684327860457})\n",
    "    lin_reg_up_feat.append(['Tenure', 'Balance', 'NumOfProducts', 'HasCrCard', 'IsActiveMember', 'EstimatedSalary', 'Geography_Germany', 'Geography_Spain', 'Gender_Male'])\n",
    "\n",
    "    lin_reg_up_param.append({'random_state' : 12345, 'solver': 'lbfgs', 'max_iter': 10000, 'C': 0.3217641750250737})\n",
    "    lin_reg_up_feat.append(['Tenure', 'Balance', 'NumOfProducts', 'HasCrCard', 'IsActiveMember', 'EstimatedSalary', 'Geography_Germany', 'Geography_Spain'])\n",
    "\n",
    "    lin_reg_up_param.append({'random_state' : 12345, 'solver': 'lbfgs', 'max_iter': 10000, 'C': 0.01})\n",
    "    lin_reg_up_feat.append(['Tenure', 'Balance', 'NumOfProducts', 'HasCrCard', 'IsActiveMember', 'EstimatedSalary', 'Geography_Germany', 'Gender_Male'])\n",
    "\n",
    "    lin_reg_up_param.append({'random_state' : 12345, 'solver': 'lbfgs', 'max_iter': 10000, 'C': 0.16070528182616392})\n",
    "    lin_reg_up_feat.append(['Tenure', 'Balance', 'NumOfProducts', 'HasCrCard', 'IsActiveMember', 'EstimatedSalary', 'Geography_Spain', 'Gender_Male'])\n",
    "\n",
    "    lin_reg_up_param.append({'random_state' : 12345, 'solver': 'lbfgs', 'max_iter': 10000, 'C': 0.010595601792776159})\n",
    "    lin_reg_up_feat.append(['Tenure', 'Balance', 'NumOfProducts', 'HasCrCard', 'IsActiveMember', 'Geography_Germany', 'Geography_Spain', 'Gender_Male'])\n",
    "\n",
    "    lin_reg_up_param.append({'random_state' : 12345, 'solver': 'lbfgs', 'max_iter': 10000, 'C': 0.011895340673703195})\n",
    "    lin_reg_up_feat.append(['Tenure', 'Balance', 'NumOfProducts', 'HasCrCard', 'EstimatedSalary', 'Geography_Germany', 'Geography_Spain', 'Gender_Male'])\n",
    "\n",
    "    lin_reg_up_param.append({'random_state' : 12345, 'solver': 'lbfgs', 'max_iter': 10000, 'C': 0.01})\n",
    "    lin_reg_up_feat.append(['Tenure', 'Balance', 'NumOfProducts', 'IsActiveMember', 'EstimatedSalary', 'Geography_Germany', 'Geography_Spain', 'Gender_Male'])\n",
    "\n",
    "    lin_reg_up_param.append({'random_state' : 12345, 'solver': 'lbfgs', 'max_iter': 10000, 'C': 0.021214517849106298})\n",
    "    lin_reg_up_feat.append(['Tenure', 'Balance', 'HasCrCard', 'IsActiveMember', 'EstimatedSalary', 'Geography_Germany', 'Geography_Spain', 'Gender_Male'])\n",
    "\n",
    "    lin_reg_up_param.append({'random_state' : 12345, 'solver': 'sag', 'max_iter': 10000, 'C': 0.06010276782070382})\n",
    "    lin_reg_up_feat.append(['Tenure', 'NumOfProducts', 'HasCrCard', 'IsActiveMember', 'EstimatedSalary', 'Geography_Germany', 'Geography_Spain', 'Gender_Male'])\n",
    "\n",
    "    lin_reg_up_param.append({'random_state' : 12345, 'solver': 'lbfgs', 'max_iter': 10000, 'C': 0.017834308769319095})\n",
    "    lin_reg_up_feat.append(['Balance', 'NumOfProducts', 'HasCrCard', 'IsActiveMember', 'EstimatedSalary', 'Geography_Germany', 'Geography_Spain', 'Gender_Male'])\n",
    "\n",
    "    \n",
    "lin_reg_up_models = []\n",
    "lin_reg_up_best_score = -1\n",
    "lin_reg_up_best_ind = -1\n",
    "auc_roc_score = -1\n",
    "\n",
    "for i in range(len(lin_reg_up_param)):\n",
    "    classifier = LogisticRegression(**lin_reg_up_param[i])\n",
    "    features = lin_reg_up_feat[i]\n",
    "    classifier.fit(features_upsampled[features], target_upsampled)\n",
    "    lin_reg_up_models.append(classifier)\n",
    "    predicted_target = classifier.predict(valid_features[features])\n",
    "    cur_score = f1_score(valid_target, predicted_target)\n",
    "    if (cur_score > lin_reg_up_best_score):\n",
    "        lin_reg_up_best_score = cur_score\n",
    "        lin_reg_up_best_ind = i\n",
    "        auc_roc_score = roc_auc_score(valid_target, predicted_target)\n",
    "    \n",
    "print('Best model')\n",
    "print(lin_reg_up_models[lin_reg_up_best_ind])\n",
    "print('F1 score on train and valid data:', lin_reg_up_best_score)\n",
    "print('AUC-ROC score:', auc_roc_score)\n",
    "print('Features:')\n",
    "print(lin_reg_up_feat[lin_reg_up_best_ind])"
   ]
  },
  {
   "cell_type": "code",
   "execution_count": 25,
   "id": "8ac93b4f",
   "metadata": {},
   "outputs": [
    {
     "name": "stdout",
     "output_type": "stream",
     "text": [
      "Threshold = 0.00 | Precision = 0.204, Recall = 1.000 | F1-score = 0.339\n",
      "Threshold = 0.05 | Precision = 0.204, Recall = 1.000 | F1-score = 0.339\n",
      "Threshold = 0.10 | Precision = 0.204, Recall = 0.998 | F1-score = 0.339\n",
      "Threshold = 0.15 | Precision = 0.208, Recall = 0.995 | F1-score = 0.343\n",
      "Threshold = 0.20 | Precision = 0.216, Recall = 0.980 | F1-score = 0.354\n",
      "Threshold = 0.25 | Precision = 0.228, Recall = 0.956 | F1-score = 0.368\n",
      "Threshold = 0.30 | Precision = 0.251, Recall = 0.924 | F1-score = 0.395\n",
      "Threshold = 0.35 | Precision = 0.274, Recall = 0.880 | F1-score = 0.418\n",
      "Threshold = 0.40 | Precision = 0.307, Recall = 0.826 | F1-score = 0.448\n",
      "Threshold = 0.45 | Precision = 0.335, Recall = 0.752 | F1-score = 0.464\n",
      "Threshold = 0.50 | Precision = 0.374, Recall = 0.689 | F1-score = 0.485\n",
      "Threshold = 0.55 | Precision = 0.402, Recall = 0.600 | F1-score = 0.481\n",
      "Threshold = 0.60 | Precision = 0.403, Recall = 0.478 | F1-score = 0.437\n",
      "Threshold = 0.65 | Precision = 0.436, Recall = 0.387 | F1-score = 0.410\n",
      "Threshold = 0.70 | Precision = 0.447, Recall = 0.292 | F1-score = 0.353\n",
      "Threshold = 0.75 | Precision = 0.463, Recall = 0.216 | F1-score = 0.294\n",
      "Threshold = 0.80 | Precision = 0.446, Recall = 0.132 | F1-score = 0.204\n",
      "Threshold = 0.85 | Precision = 0.299, Recall = 0.049 | F1-score = 0.084\n",
      "Threshold = 0.90 | Precision = 0.250, Recall = 0.017 | F1-score = 0.032\n"
     ]
    },
    {
     "data": {
      "image/png": "[encoded data removed]",
      "text/plain": [
       "<Figure size 1152x720 with 1 Axes>"
      ]
     },
     "metadata": {
      "needs_background": "light"
     },
     "output_type": "display_data"
    }
   ],
   "source": [
    "print_pr_curve(lin_reg_up_models[lin_reg_up_best_ind], lin_reg_up_feat[lin_reg_up_best_ind], valid_features, valid_target)"
   ]
  },
  {
   "cell_type": "markdown",
   "id": "a942e74c",
   "metadata": {},
   "source": [
    "### Обучение на суженной выборке"
   ]
  },
  {
   "cell_type": "markdown",
   "id": "6e3ceb02",
   "metadata": {},
   "source": [
    "#### Случайный лес"
   ]
  },
  {
   "cell_type": "markdown",
   "id": "9a5ad0af",
   "metadata": {},
   "source": [
    "Ничего не изменилось. Так же, как и в случае с расширенной выборкой, производим перебор самописным GridSearch по тому же самому набору гиперпараметров, что и все предыдущие разы."
   ]
  },
  {
   "cell_type": "code",
   "execution_count": 26,
   "id": "fc33e68e",
   "metadata": {
    "scrolled": true
   },
   "outputs": [],
   "source": [
    "random_forest_down_param = []\n",
    "random_forest_down_feat = []\n",
    "\n",
    "if is_need_learn == True:\n",
    "    next_it = True\n",
    "    cur_best_model_score = -1\n",
    "    cur_features_list = features_list\n",
    "    \n",
    "    while next_it or len(cur_features_list) < 1:\n",
    "        next_it = False\n",
    "        iter_best_model_score = -1\n",
    "        iter_best_model_feat = []\n",
    "        \n",
    "        for feat in cur_features_list:\n",
    "            print(feat)\n",
    "            feat_score = -1\n",
    "            feat_param = []\n",
    "            \n",
    "            parameters_random_forest = {\n",
    "                'n_estimators' : range(500, 1000, 50),\n",
    "                'class_weight' : ['balanced', None],\n",
    "                'max_features' : range(1, len(feat) + 1),\n",
    "                'criterion': ['gini'],\n",
    "                'max_depth' : range(10, 80, 5),\n",
    "            }\n",
    "\n",
    "            kwarg_params = product_dict(parameters_random_forest)\n",
    "\n",
    "            for param in kwarg_params:\n",
    "                classifier = RandomForestClassifier(**param)\n",
    "                classifier.fit(features_downsampled[feat], target_downsampled)\n",
    "                predicted = classifier.predict(valid_features[feat])\n",
    "                f1_val = f1_score(valid_target, predicted)\n",
    "                if f1_val > feat_score:\n",
    "                    feat_score = f1_val\n",
    "                    feat_param = param\n",
    "                \n",
    "            random_forest_down_param.append(feat_param)\n",
    "            random_forest_down_feat.append(feat)\n",
    "            if feat_score > iter_best_model_score:\n",
    "                iter_best_model_score = feat_score\n",
    "                iter_best_model_feat = feat\n",
    "                print('Best F1-score:', iter_best_model_score)\n",
    "        \n",
    "        if iter_best_model_score > cur_best_model_score:\n",
    "            cur_best_model_score = iter_best_model_score\n",
    "            next_it = True\n",
    "            \n",
    "            # generate new features list\n",
    "            cur_features_list = []\n",
    "            comb = list(combinations(feat, len(feat) - 1))\n",
    "            for a in comb:\n",
    "                cur_features_list.append(list(a))\n"
   ]
  },
  {
   "cell_type": "markdown",
   "id": "971eff0f",
   "metadata": {},
   "source": [
    "Посмотрим на результаты наилучшей модели на несбалансированной обучающей выборке. Помимо F1 метрики также посмотрим на AUC-ROC (площадь под roc-curve)."
   ]
  },
  {
   "cell_type": "code",
   "execution_count": 27,
   "id": "c4ef39cf",
   "metadata": {
    "scrolled": true
   },
   "outputs": [
    {
     "name": "stdout",
     "output_type": "stream",
     "text": [
      "Best model\n",
      "RandomForestClassifier(max_depth=6, max_features=6, n_estimators=121,\n",
      "                       random_state=12345)\n",
      "F1 score on train and valid data: 0.593170731707317\n",
      "AUC-ROC score: 0.7743067095011262\n",
      "Features:\n",
      "['Age', 'Balance', 'NumOfProducts', 'HasCrCard', 'IsActiveMember', 'EstimatedSalary', 'Geography_Germany', 'Geography_Spain', 'Gender_Male']\n"
     ]
    }
   ],
   "source": [
    "best_random_forest_down_classifier_param = None\n",
    "best_random_forest_down_features = []\n",
    "\n",
    "if is_need_learn != True:\n",
    "    random_forest_down_param.append({'random_state' : 12345, 'n_estimators': 121, 'max_features': 5, 'criterion': 'gini', 'max_depth': 6})\n",
    "    random_forest_down_feat.append(['CreditScore', 'Age', 'Tenure', 'Balance', 'NumOfProducts', 'HasCrCard', 'IsActiveMember', 'EstimatedSalary', 'Geography_Germany', 'Geography_Spain', 'Gender_Male'])\n",
    "\n",
    "    random_forest_down_param.append({'random_state' : 12345, 'n_estimators': 61, 'max_features': 8, 'criterion': 'gini', 'max_depth': 6})\n",
    "    random_forest_down_feat.append(['CreditScore', 'Age', 'Tenure', 'Balance', 'NumOfProducts', 'HasCrCard', 'IsActiveMember', 'EstimatedSalary', 'Geography_Germany', 'Geography_Spain'])\n",
    "\n",
    "    random_forest_down_param.append({'random_state' : 12345, 'n_estimators': 71, 'max_features': 5, 'criterion': 'gini', 'max_depth': 6})\n",
    "    random_forest_down_feat.append(['CreditScore', 'Age', 'Tenure', 'Balance', 'NumOfProducts', 'HasCrCard', 'IsActiveMember', 'EstimatedSalary', 'Geography_Germany', 'Gender_Male'])\n",
    "\n",
    "    random_forest_down_param.append({'random_state' : 12345, 'n_estimators': 51, 'max_features': 8, 'criterion': 'gini', 'max_depth': 6})\n",
    "    random_forest_down_feat.append(['CreditScore', 'Age', 'Tenure', 'Balance', 'NumOfProducts', 'HasCrCard', 'IsActiveMember', 'EstimatedSalary', 'Geography_Spain', 'Gender_Male'])\n",
    "\n",
    "    random_forest_down_param.append({'random_state' : 12345, 'n_estimators': 141, 'max_features': 6, 'criterion': 'gini', 'max_depth': 6})\n",
    "    random_forest_down_feat.append(['CreditScore', 'Age', 'Tenure', 'Balance', 'NumOfProducts', 'HasCrCard', 'IsActiveMember', 'Geography_Germany', 'Geography_Spain', 'Gender_Male'])\n",
    "\n",
    "    random_forest_down_param.append({'random_state' : 12345, 'n_estimators': 121, 'max_features': 6, 'criterion': 'gini', 'max_depth': 6})\n",
    "    random_forest_down_feat.append(['CreditScore', 'Age', 'Tenure', 'Balance', 'NumOfProducts', 'HasCrCard', 'EstimatedSalary', 'Geography_Germany', 'Geography_Spain', 'Gender_Male'])\n",
    "\n",
    "    random_forest_down_param.append({'random_state' : 12345, 'n_estimators': 51, 'max_features': 8, 'criterion': 'gini', 'max_depth': 6})\n",
    "    random_forest_down_feat.append(['CreditScore', 'Age', 'Tenure', 'Balance', 'NumOfProducts', 'IsActiveMember', 'EstimatedSalary', 'Geography_Germany', 'Geography_Spain', 'Gender_Male'])\n",
    "\n",
    "    random_forest_down_param.append({'random_state' : 12345, 'n_estimators': 51, 'max_features': 4, 'criterion': 'gini', 'max_depth': 11})\n",
    "    random_forest_down_feat.append(['CreditScore', 'Age', 'Tenure', 'Balance', 'HasCrCard', 'IsActiveMember', 'EstimatedSalary', 'Geography_Germany', 'Geography_Spain', 'Gender_Male'])\n",
    "\n",
    "    random_forest_down_param.append({'random_state' : 12345, 'n_estimators': 81, 'max_features': 3, 'criterion': 'gini', 'max_depth': 6})\n",
    "    random_forest_down_feat.append(['CreditScore', 'Age', 'Tenure', 'NumOfProducts', 'HasCrCard', 'IsActiveMember', 'EstimatedSalary', 'Geography_Germany', 'Geography_Spain', 'Gender_Male'])\n",
    "\n",
    "    random_forest_down_param.append({'random_state' : 12345, 'n_estimators': 31, 'max_features': 5, 'criterion': 'gini', 'max_depth': 6})\n",
    "    random_forest_down_feat.append(['CreditScore', 'Age', 'Balance', 'NumOfProducts', 'HasCrCard', 'IsActiveMember', 'EstimatedSalary', 'Geography_Germany', 'Geography_Spain', 'Gender_Male'])\n",
    "\n",
    "    random_forest_down_param.append({'random_state' : 12345, 'n_estimators': 21, 'max_features': 7, 'criterion': 'gini', 'max_depth': 6})\n",
    "    random_forest_down_feat.append(['CreditScore', 'Tenure', 'Balance', 'NumOfProducts', 'HasCrCard', 'IsActiveMember', 'EstimatedSalary', 'Geography_Germany', 'Geography_Spain', 'Gender_Male'])\n",
    "\n",
    "    random_forest_down_param.append({'random_state' : 12345, 'n_estimators': 141, 'max_features': 6, 'criterion': 'gini', 'max_depth': 6})\n",
    "    random_forest_down_feat.append(['Age', 'Tenure', 'Balance', 'NumOfProducts', 'HasCrCard', 'IsActiveMember', 'EstimatedSalary', 'Geography_Germany', 'Geography_Spain', 'Gender_Male'])\n",
    "\n",
    "    random_forest_down_param.append({'random_state' : 12345, 'n_estimators': 101, 'max_features': 7, 'criterion': 'gini', 'max_depth': 6})\n",
    "    random_forest_down_feat.append(['Age', 'Tenure', 'Balance', 'NumOfProducts', 'HasCrCard', 'IsActiveMember', 'EstimatedSalary', 'Geography_Germany', 'Geography_Spain'])\n",
    "\n",
    "    random_forest_down_param.append({'random_state' : 12345, 'n_estimators': 131, 'max_features': 3, 'criterion': 'gini', 'max_depth': 6})\n",
    "    random_forest_down_feat.append(['Age', 'Tenure', 'Balance', 'NumOfProducts', 'HasCrCard', 'IsActiveMember', 'EstimatedSalary', 'Geography_Germany', 'Gender_Male'])\n",
    "\n",
    "    random_forest_down_param.append({'random_state' : 12345, 'n_estimators': 61, 'max_features': 8, 'criterion': 'gini', 'max_depth': 6})\n",
    "    random_forest_down_feat.append(['Age', 'Tenure', 'Balance', 'NumOfProducts', 'HasCrCard', 'IsActiveMember', 'EstimatedSalary', 'Geography_Spain', 'Gender_Male'])\n",
    "\n",
    "    random_forest_down_param.append({'random_state' : 12345, 'n_estimators': 111, 'max_features': 4, 'criterion': 'gini', 'max_depth': 6})\n",
    "    random_forest_down_feat.append(['Age', 'Tenure', 'Balance', 'NumOfProducts', 'HasCrCard', 'IsActiveMember', 'Geography_Germany', 'Geography_Spain', 'Gender_Male'])\n",
    "\n",
    "    random_forest_down_param.append({'random_state' : 12345, 'n_estimators': 121, 'max_features': 8, 'criterion': 'gini', 'max_depth': 6})\n",
    "    random_forest_down_feat.append(['Age', 'Tenure', 'Balance', 'NumOfProducts', 'HasCrCard', 'EstimatedSalary', 'Geography_Germany', 'Geography_Spain', 'Gender_Male'])\n",
    "\n",
    "    random_forest_down_param.append({'random_state' : 12345, 'n_estimators': 131, 'max_features': 4, 'criterion': 'gini', 'max_depth': 6})\n",
    "    random_forest_down_feat.append(['Age', 'Tenure', 'Balance', 'NumOfProducts', 'IsActiveMember', 'EstimatedSalary', 'Geography_Germany', 'Geography_Spain', 'Gender_Male'])\n",
    "\n",
    "    random_forest_down_param.append({'random_state' : 12345, 'n_estimators': 41, 'max_features': 2, 'criterion': 'gini', 'max_depth': 6})\n",
    "    random_forest_down_feat.append(['Age', 'Tenure', 'Balance', 'HasCrCard', 'IsActiveMember', 'EstimatedSalary', 'Geography_Germany', 'Geography_Spain', 'Gender_Male'])\n",
    "\n",
    "    random_forest_down_param.append({'random_state' : 12345, 'n_estimators': 11, 'max_features': 7, 'criterion': 'gini', 'max_depth': 6})\n",
    "    random_forest_down_feat.append(['Age', 'Tenure', 'NumOfProducts', 'HasCrCard', 'IsActiveMember', 'EstimatedSalary', 'Geography_Germany', 'Geography_Spain', 'Gender_Male'])\n",
    "\n",
    "    random_forest_down_param.append({'random_state' : 12345, 'n_estimators': 121, 'max_features': 6, 'criterion': 'gini', 'max_depth': 6})\n",
    "    random_forest_down_feat.append(['Age', 'Balance', 'NumOfProducts', 'HasCrCard', 'IsActiveMember', 'EstimatedSalary', 'Geography_Germany', 'Geography_Spain', 'Gender_Male'])\n",
    "\n",
    "    random_forest_down_param.append({'random_state' : 12345, 'n_estimators': 141, 'max_features': 6, 'criterion': 'gini', 'max_depth': 6})\n",
    "    random_forest_down_feat.append(['Tenure', 'Balance', 'NumOfProducts', 'HasCrCard', 'IsActiveMember', 'EstimatedSalary', 'Geography_Germany', 'Geography_Spain', 'Gender_Male'])\n",
    "\n",
    "    random_forest_down_param.append({'random_state' : 12345, 'n_estimators': 61, 'max_features': 7, 'criterion': 'gini', 'max_depth': 6})\n",
    "    random_forest_down_feat.append(['Tenure', 'Balance', 'NumOfProducts', 'HasCrCard', 'IsActiveMember', 'EstimatedSalary', 'Geography_Germany', 'Geography_Spain'])\n",
    "\n",
    "    random_forest_down_param.append({'random_state' : 12345, 'n_estimators': 71, 'max_features': 6, 'criterion': 'gini', 'max_depth': 6})\n",
    "    random_forest_down_feat.append(['Tenure', 'Balance', 'NumOfProducts', 'HasCrCard', 'IsActiveMember', 'EstimatedSalary', 'Geography_Germany', 'Gender_Male'])\n",
    "\n",
    "    random_forest_down_param.append({'random_state' : 12345, 'n_estimators': 31, 'max_features': 6, 'criterion': 'gini', 'max_depth': 6})\n",
    "    random_forest_down_feat.append(['Tenure', 'Balance', 'NumOfProducts', 'HasCrCard', 'IsActiveMember', 'EstimatedSalary', 'Geography_Spain', 'Gender_Male'])\n",
    "\n",
    "    random_forest_down_param.append({'random_state' : 12345, 'n_estimators': 91, 'max_features': 7, 'criterion': 'gini', 'max_depth': 6})\n",
    "    random_forest_down_feat.append(['Tenure', 'Balance', 'NumOfProducts', 'HasCrCard', 'IsActiveMember', 'Geography_Germany', 'Geography_Spain', 'Gender_Male'])\n",
    "\n",
    "    random_forest_down_param.append({'random_state' : 12345, 'n_estimators': 141, 'max_features': 6, 'criterion': 'gini', 'max_depth': 6})\n",
    "    random_forest_down_feat.append(['Tenure', 'Balance', 'NumOfProducts', 'HasCrCard', 'EstimatedSalary', 'Geography_Germany', 'Geography_Spain', 'Gender_Male'])\n",
    "\n",
    "    random_forest_down_param.append({'random_state' : 12345, 'n_estimators': 111, 'max_features': 5, 'criterion': 'gini', 'max_depth': 6})\n",
    "    random_forest_down_feat.append(['Tenure', 'Balance', 'NumOfProducts', 'IsActiveMember', 'EstimatedSalary', 'Geography_Germany', 'Geography_Spain', 'Gender_Male'])\n",
    "\n",
    "    random_forest_down_param.append({'random_state' : 12345, 'n_estimators': 61, 'max_features': 3, 'criterion': 'gini', 'max_depth': 6})\n",
    "    random_forest_down_feat.append(['Tenure', 'Balance', 'HasCrCard', 'IsActiveMember', 'EstimatedSalary', 'Geography_Germany', 'Geography_Spain', 'Gender_Male'])\n",
    "\n",
    "    random_forest_down_param.append({'random_state' : 12345, 'n_estimators': 51, 'max_features': 8, 'criterion': 'gini', 'max_depth': 6})\n",
    "    random_forest_down_feat.append(['Tenure', 'NumOfProducts', 'HasCrCard', 'IsActiveMember', 'EstimatedSalary', 'Geography_Germany', 'Geography_Spain', 'Gender_Male'])\n",
    "\n",
    "    random_forest_down_param.append({'random_state' : 12345, 'n_estimators': 51, 'max_features': 5, 'criterion': 'gini', 'max_depth': 6})\n",
    "    random_forest_down_feat.append(['Balance', 'NumOfProducts', 'HasCrCard', 'IsActiveMember', 'EstimatedSalary', 'Geography_Germany', 'Geography_Spain', 'Gender_Male'])\n",
    "\n",
    "    \n",
    "    \n",
    "random_forest_down_models = []\n",
    "random_forest_down_best_score = -1\n",
    "random_forest_down_best_ind = -1\n",
    "auc_roc_score = -1\n",
    "\n",
    "for i in range(len(random_forest_down_param)):\n",
    "    classifier = RandomForestClassifier(**random_forest_down_param[i])\n",
    "    features = random_forest_down_feat[i]\n",
    "    classifier.fit(features_downsampled[features], target_downsampled)\n",
    "    random_forest_down_models.append(classifier)\n",
    "    predicted_target = classifier.predict(valid_features[features])\n",
    "    cur_score = f1_score(valid_target, predicted_target)\n",
    "    if (cur_score > random_forest_down_best_score):\n",
    "        random_forest_down_best_score = cur_score\n",
    "        random_forest_down_best_ind = i\n",
    "        auc_roc_score = roc_auc_score(valid_target, predicted_target)\n",
    "    \n",
    "print('Best model')\n",
    "print(random_forest_down_models[random_forest_down_best_ind])\n",
    "print('F1 score on train and valid data:', random_forest_down_best_score)\n",
    "print('AUC-ROC score:', auc_roc_score)\n",
    "print('Features:')\n",
    "print(random_forest_down_feat[random_forest_down_best_ind])"
   ]
  },
  {
   "cell_type": "markdown",
   "id": "37f5237f",
   "metadata": {},
   "source": [
    "#### Логистическая регрессия"
   ]
  },
  {
   "cell_type": "markdown",
   "id": "386f8ba4",
   "metadata": {},
   "source": [
    "Ничего не изменилось. Так же, как и в случае с расширенной выборкой, производим перебор самописным GridSearch по тому же самому набору гиперпараметров, что и все предыдущие разы."
   ]
  },
  {
   "cell_type": "code",
   "execution_count": 28,
   "id": "5c6e09b0",
   "metadata": {
    "scrolled": true
   },
   "outputs": [],
   "source": [
    "lin_reg_down_param = []\n",
    "lin_reg_down_feat = []\n",
    "\n",
    "if is_need_learn == True:\n",
    "    next_it = True\n",
    "    cur_best_model_score = -1\n",
    "    cur_features_list = features_list\n",
    "    \n",
    "    while next_it or len(cur_features_list) < 1:\n",
    "        next_it = False\n",
    "        iter_best_model_score = -1\n",
    "        iter_best_model_feat = []\n",
    "        \n",
    "        for feat in cur_features_list:\n",
    "            print(feat)\n",
    "            feat_score = -1\n",
    "            feat_param = []\n",
    "\n",
    "            parameters_log_reg = {\n",
    "                'random_state' : [12345],\n",
    "                'solver' : ['lbfgs', 'sag', 'saga'],\n",
    "                'max_iter' : [10000],\n",
    "                'C' : np.logspace(-2, 4, 200)\n",
    "            }\n",
    "            kwarg_params = product_dict(parameters_log_reg)\n",
    "\n",
    "            for param in kwarg_params:\n",
    "                classifier = LogisticRegression(**param)\n",
    "                classifier.fit(features_downsampled[feat], target_downsampled)\n",
    "                predicted = classifier.predict(valid_features[feat])\n",
    "                f1_val = f1_score(valid_target, predicted)\n",
    "                if f1_val > feat_score:\n",
    "                    feat_score = f1_val\n",
    "                    feat_param = param\n",
    "                \n",
    "            lin_reg_down_param.append(feat_param)\n",
    "            lin_reg_down_feat.append(feat)\n",
    "            if feat_score > iter_best_model_score:\n",
    "                iter_best_model_score = feat_score\n",
    "                iter_best_model_feat = feat\n",
    "                print('Best F1-score:', iter_best_model_score)\n",
    "        \n",
    "        if iter_best_model_score > cur_best_model_score:\n",
    "            cur_best_model_score = iter_best_model_score\n",
    "            next_it = True\n",
    "            \n",
    "            # generate new features list\n",
    "            cur_features_list = []\n",
    "            comb = list(combinations(feat, len(feat) - 1))\n",
    "            for a in comb:\n",
    "                cur_features_list.append(list(a))\n"
   ]
  },
  {
   "cell_type": "markdown",
   "id": "8b47ff35",
   "metadata": {},
   "source": [
    "Посмотрим на результаты наилучшей модели на несбалансированной обучающей выборке. Помимо F1 метрики также посмотрим на AUC-ROC (площадь под roc-curve)."
   ]
  },
  {
   "cell_type": "code",
   "execution_count": 29,
   "id": "102a79f3",
   "metadata": {
    "scrolled": true
   },
   "outputs": [
    {
     "name": "stdout",
     "output_type": "stream",
     "text": [
      "Best model\n",
      "LogisticRegression(C=0.011489510001873092, max_iter=10000, random_state=12345)\n",
      "F1 score on train and valid data: 0.49691629955947136\n",
      "AUC-ROC score: 0.7059146634171559\n",
      "Features:\n",
      "['CreditScore', 'Age', 'Tenure', 'Balance', 'NumOfProducts', 'HasCrCard', 'IsActiveMember', 'EstimatedSalary', 'Geography_Spain', 'Gender_Male']\n"
     ]
    }
   ],
   "source": [
    "if is_need_learn != True:\n",
    "    lin_reg_down_param.append({'random_state' : 12345, 'solver': 'lbfgs', 'max_iter': 10000, 'C': 0.04008806328898465})\n",
    "    lin_reg_down_feat.append(['CreditScore', 'Age', 'Tenure', 'Balance', 'NumOfProducts', 'HasCrCard', 'IsActiveMember', 'EstimatedSalary', 'Geography_Germany', 'Geography_Spain', 'Gender_Male'])\n",
    "\n",
    "    lin_reg_down_param.append({'random_state' : 12345, 'solver': 'lbfgs', 'max_iter': 10000, 'C': 0.01})\n",
    "    lin_reg_down_feat.append(['CreditScore', 'Age', 'Tenure', 'Balance', 'NumOfProducts', 'HasCrCard', 'IsActiveMember', 'EstimatedSalary', 'Geography_Germany', 'Geography_Spain'])\n",
    "\n",
    "    lin_reg_down_param.append({'random_state' : 12345, 'solver': 'lbfgs', 'max_iter': 10000, 'C': 0.02300430119772918})\n",
    "    lin_reg_down_feat.append(['CreditScore', 'Age', 'Tenure', 'Balance', 'NumOfProducts', 'HasCrCard', 'IsActiveMember', 'EstimatedSalary', 'Geography_Germany', 'Gender_Male'])\n",
    "\n",
    "    lin_reg_down_param.append({'random_state' : 12345, 'solver': 'lbfgs', 'max_iter': 10000, 'C': 0.011489510001873092})\n",
    "    lin_reg_down_feat.append(['CreditScore', 'Age', 'Tenure', 'Balance', 'NumOfProducts', 'HasCrCard', 'IsActiveMember', 'EstimatedSalary', 'Geography_Spain', 'Gender_Male'])\n",
    "\n",
    "    lin_reg_down_param.append({'random_state' : 12345, 'solver': 'lbfgs', 'max_iter': 10000, 'C': 0.0174263338600965})\n",
    "    lin_reg_down_feat.append(['CreditScore', 'Age', 'Tenure', 'Balance', 'NumOfProducts', 'HasCrCard', 'IsActiveMember', 'Geography_Germany', 'Geography_Spain', 'Gender_Male'])\n",
    "\n",
    "    lin_reg_down_param.append({'random_state' : 12345, 'solver': 'lbfgs', 'max_iter': 10000, 'C': 0.01})\n",
    "    lin_reg_down_feat.append(['CreditScore', 'Age', 'Tenure', 'Balance', 'NumOfProducts', 'HasCrCard', 'EstimatedSalary', 'Geography_Germany', 'Geography_Spain', 'Gender_Male'])\n",
    "                            \n",
    "    lin_reg_down_param.append({'random_state' : 12345, 'solver': 'lbfgs', 'max_iter': 10000, 'C': 0.010718913192051276})\n",
    "    lin_reg_down_feat.append(['CreditScore', 'Age', 'Tenure', 'Balance', 'NumOfProducts', 'IsActiveMember', 'EstimatedSalary', 'Geography_Germany', 'Geography_Spain', 'Gender_Male'])\n",
    "\n",
    "    lin_reg_down_param.append({'random_state' : 12345, 'solver': 'lbfgs', 'max_iter': 10000, 'C': 0.02300430119772918})\n",
    "    lin_reg_down_feat.append(['CreditScore', 'Age', 'Tenure', 'Balance', 'HasCrCard', 'IsActiveMember', 'EstimatedSalary', 'Geography_Germany', 'Geography_Spain', 'Gender_Male'])\n",
    "\n",
    "    lin_reg_down_param.append({'random_state' : 12345, 'solver': 'lbfgs', 'max_iter': 10000, 'C': 0.010718913192051276})\n",
    "    lin_reg_down_feat.append(['CreditScore', 'Age', 'Tenure', 'NumOfProducts', 'HasCrCard', 'IsActiveMember', 'EstimatedSalary', 'Geography_Germany', 'Geography_Spain', 'Gender_Male'])\n",
    "\n",
    "    lin_reg_down_param.append({'random_state' : 12345, 'solver': 'sag', 'max_iter': 10000, 'C': 0.01})\n",
    "    lin_reg_down_feat.append(['CreditScore', 'Age', 'Balance', 'NumOfProducts', 'HasCrCard', 'IsActiveMember', 'EstimatedSalary', 'Geography_Germany', 'Geography_Spain', 'Gender_Male'])\n",
    "\n",
    "    lin_reg_down_param.append({'random_state' : 12345, 'solver': 'lbfgs', 'max_iter': 10000, 'C': 2.247805833548725})\n",
    "    lin_reg_down_feat.append(['CreditScore', 'Tenure', 'Balance', 'NumOfProducts', 'HasCrCard', 'IsActiveMember', 'EstimatedSalary', 'Geography_Germany', 'Geography_Spain', 'Gender_Male'])\n",
    "\n",
    "    lin_reg_down_param.append({'random_state' : 12345, 'solver': 'lbfgs', 'max_iter': 10000, 'C': 0.020022003718155844})\n",
    "    lin_reg_down_feat.append(['Age', 'Tenure', 'Balance', 'NumOfProducts', 'HasCrCard', 'IsActiveMember', 'EstimatedSalary', 'Geography_Germany', 'Geography_Spain', 'Gender_Male'])\n",
    "\n",
    "    lin_reg_down_param.append({'random_state' : 12345, 'solver': 'lbfgs', 'max_iter': 10000, 'C': 0.012315506032928256})\n",
    "    lin_reg_down_feat.append(['Age', 'Tenure', 'Balance', 'NumOfProducts', 'HasCrCard', 'IsActiveMember', 'EstimatedSalary', 'Geography_Germany', 'Geography_Spain'])\n",
    "\n",
    "    lin_reg_down_param.append({'random_state' : 12345, 'solver': 'saga', 'max_iter': 10000, 'C': 0.024658110758226028})\n",
    "    lin_reg_down_feat.append(['Age', 'Tenure', 'Balance', 'NumOfProducts', 'HasCrCard', 'IsActiveMember', 'EstimatedSalary', 'Geography_Germany', 'Gender_Male'])\n",
    "\n",
    "    lin_reg_down_param.append({'random_state' : 12345, 'solver': 'lbfgs', 'max_iter': 10000, 'C': 0.01320088400831418})\n",
    "    lin_reg_down_feat.append(['Age', 'Tenure', 'Balance', 'NumOfProducts', 'HasCrCard', 'IsActiveMember', 'EstimatedSalary', 'Geography_Spain', 'Gender_Male'])\n",
    "                            \n",
    "    lin_reg_down_param.append({'random_state' : 12345, 'solver': 'lbfgs', 'max_iter': 10000, 'C': 0.049370478528390035})\n",
    "    lin_reg_down_feat.append(['Age', 'Tenure', 'Balance', 'NumOfProducts', 'HasCrCard', 'IsActiveMember', 'Geography_Germany', 'Geography_Spain', 'Gender_Male'])\n",
    "\n",
    "    lin_reg_down_param.append({'random_state' : 12345, 'solver': 'lbfgs', 'max_iter': 10000, 'C': 0.015167168884709226})\n",
    "    lin_reg_down_feat.append(['Age', 'Tenure', 'Balance', 'NumOfProducts', 'HasCrCard', 'EstimatedSalary', 'Geography_Germany', 'Geography_Spain', 'Gender_Male'])\n",
    "\n",
    "    lin_reg_down_param.append({'random_state' : 12345, 'solver': 'lbfgs', 'max_iter': 10000, 'C': 0.8504489341802677})\n",
    "    lin_reg_down_feat.append(['Age', 'Tenure', 'Balance', 'NumOfProducts', 'IsActiveMember', 'EstimatedSalary', 'Geography_Germany', 'Geography_Spain', 'Gender_Male'])\n",
    "\n",
    "    lin_reg_down_param.append({'random_state' : 12345, 'solver': 'lbfgs', 'max_iter': 10000, 'C': 0.02300430119772918})\n",
    "    lin_reg_down_feat.append(['Age', 'Tenure', 'Balance', 'HasCrCard', 'IsActiveMember', 'EstimatedSalary', 'Geography_Germany', 'Geography_Spain', 'Gender_Male'])\n",
    "\n",
    "    lin_reg_down_param.append({'random_state' : 12345, 'solver': 'lbfgs', 'max_iter': 10000, 'C': 0.01320088400831418})\n",
    "    lin_reg_down_feat.append(['Age', 'Tenure', 'NumOfProducts', 'HasCrCard', 'IsActiveMember', 'EstimatedSalary', 'Geography_Germany', 'Geography_Spain', 'Gender_Male'])\n",
    "\n",
    "    lin_reg_down_param.append({'random_state' : 12345, 'solver': 'lbfgs', 'max_iter': 10000, 'C': 0.015167168884709226})\n",
    "    lin_reg_down_feat.append(['Age', 'Balance', 'NumOfProducts', 'HasCrCard', 'IsActiveMember', 'EstimatedSalary', 'Geography_Germany', 'Geography_Spain', 'Gender_Male'])\n",
    "\n",
    "    lin_reg_down_param.append({'random_state' : 12345, 'solver': 'lbfgs', 'max_iter': 10000, 'C': 0.015167168884709226})\n",
    "    lin_reg_down_feat.append(['Tenure', 'Balance', 'NumOfProducts', 'HasCrCard', 'IsActiveMember', 'EstimatedSalary', 'Geography_Germany', 'Geography_Spain', 'Gender_Male'])\n",
    "\n",
    "    lin_reg_down_param.append({'random_state' : 12345, 'solver': 'lbfgs', 'max_iter': 10000, 'C': 0.32176417502507354})\n",
    "    lin_reg_down_feat.append(['Tenure', 'Balance', 'NumOfProducts', 'HasCrCard', 'IsActiveMember', 'EstimatedSalary', 'Geography_Germany', 'Geography_Spain'])\n",
    "\n",
    "    lin_reg_down_param.append({'random_state' : 12345, 'solver': 'lbfgs', 'max_iter': 10000, 'C': 0.01})\n",
    "    lin_reg_down_feat.append(['Tenure', 'Balance', 'NumOfProducts', 'HasCrCard', 'IsActiveMember', 'EstimatedSalary', 'Geography_Germany', 'Gender_Male'])\n",
    "\n",
    "    lin_reg_down_param.append({'random_state' : 12345, 'solver': 'lbfgs', 'max_iter': 10000, 'C': 0.16070528182616384})\n",
    "    lin_reg_down_feat.append(['Tenure', 'Balance', 'NumOfProducts', 'HasCrCard', 'IsActiveMember', 'EstimatedSalary', 'Geography_Spain', 'Gender_Male'])\n",
    "\n",
    "    lin_reg_down_param.append({'random_state' : 12345, 'solver': 'lbfgs', 'max_iter': 10000, 'C': 0.010718913192051276})\n",
    "    lin_reg_down_feat.append(['Tenure', 'Balance', 'NumOfProducts', 'HasCrCard', 'IsActiveMember', 'Geography_Germany', 'Geography_Spain', 'Gender_Male'])\n",
    "\n",
    "    lin_reg_down_param.append({'random_state' : 12345, 'solver': 'lbfgs', 'max_iter': 10000, 'C': 0.010718913192051276})\n",
    "    lin_reg_down_feat.append(['Tenure', 'Balance', 'NumOfProducts', 'HasCrCard', 'EstimatedSalary', 'Geography_Germany', 'Geography_Spain', 'Gender_Male'])\n",
    "\n",
    "    lin_reg_down_param.append({'random_state' : 12345, 'solver': 'lbfgs', 'max_iter': 10000, 'C': 0.01})\n",
    "    lin_reg_down_feat.append(['Tenure', 'Balance', 'NumOfProducts', 'IsActiveMember', 'EstimatedSalary', 'Geography_Germany', 'Geography_Spain', 'Gender_Male'])\n",
    "\n",
    "    lin_reg_down_param.append({'random_state' : 12345, 'solver': 'lbfgs', 'max_iter': 10000, 'C': 0.021461411978584036})\n",
    "    lin_reg_down_feat.append(['Tenure', 'Balance', 'HasCrCard', 'IsActiveMember', 'EstimatedSalary', 'Geography_Germany', 'Geography_Spain', 'Gender_Male'])\n",
    "\n",
    "    lin_reg_down_param.append({'random_state' : 12345, 'solver': 'lbfgs', 'max_iter': 10000, 'C': 0.06080224261649421})\n",
    "    lin_reg_down_feat.append(['Tenure', 'NumOfProducts', 'HasCrCard', 'IsActiveMember', 'EstimatedSalary', 'Geography_Germany', 'Geography_Spain', 'Gender_Male'])\n",
    "\n",
    "    lin_reg_down_param.append({'random_state' : 12345, 'solver': 'lbfgs', 'max_iter': 10000, 'C': 0.0174263338600965})\n",
    "    lin_reg_down_feat.append(['Balance', 'NumOfProducts', 'HasCrCard', 'IsActiveMember', 'EstimatedSalary', 'Geography_Germany', 'Geography_Spain', 'Gender_Male'])\n",
    "\n",
    "lin_reg_down_models = []\n",
    "lin_reg_down_best_score = -1\n",
    "lin_reg_down_best_ind = -1\n",
    "auc_roc_score = -1\n",
    "\n",
    "for i in range(len(lin_reg_down_param)):\n",
    "    classifier = LogisticRegression(**lin_reg_down_param[i])\n",
    "    features = lin_reg_down_feat[i]\n",
    "    classifier.fit(features_downsampled[features], target_downsampled)\n",
    "    lin_reg_down_models.append(classifier)\n",
    "    predicted_target = classifier.predict(valid_features[features])\n",
    "    cur_score = f1_score(valid_target, predicted_target)\n",
    "    if (cur_score > lin_reg_down_best_score):\n",
    "        lin_reg_down_best_score = cur_score\n",
    "        lin_reg_down_best_ind = i\n",
    "        auc_roc_score = roc_auc_score(valid_target, predicted_target)\n",
    "    \n",
    "print('Best model')\n",
    "print(lin_reg_down_models[lin_reg_down_best_ind])\n",
    "print('F1 score on train and valid data:', lin_reg_down_best_score)\n",
    "print('AUC-ROC score:', auc_roc_score)\n",
    "print('Features:')\n",
    "print(lin_reg_down_feat[lin_reg_down_best_ind])"
   ]
  },
  {
   "cell_type": "markdown",
   "id": "c8a80307",
   "metadata": {},
   "source": [
    "Посмотрим на результаты наилучшей модели на несбалансированной обучающей выборке. Помимо F1 метрики также посмотрим на AUC-ROC (площадь под roc-curve)."
   ]
  },
  {
   "cell_type": "code",
   "execution_count": 30,
   "id": "fa66e2ff",
   "metadata": {
    "scrolled": true
   },
   "outputs": [
    {
     "name": "stdout",
     "output_type": "stream",
     "text": [
      "Threshold = 0.00 | Precision = 0.204, Recall = 1.000 | F1-score = 0.339\n",
      "Threshold = 0.05 | Precision = 0.204, Recall = 1.000 | F1-score = 0.339\n",
      "Threshold = 0.10 | Precision = 0.204, Recall = 0.998 | F1-score = 0.339\n",
      "Threshold = 0.15 | Precision = 0.206, Recall = 0.995 | F1-score = 0.341\n",
      "Threshold = 0.20 | Precision = 0.212, Recall = 0.985 | F1-score = 0.349\n",
      "Threshold = 0.25 | Precision = 0.225, Recall = 0.963 | F1-score = 0.365\n",
      "Threshold = 0.30 | Precision = 0.244, Recall = 0.936 | F1-score = 0.387\n",
      "Threshold = 0.35 | Precision = 0.273, Recall = 0.902 | F1-score = 0.419\n",
      "Threshold = 0.40 | Precision = 0.299, Recall = 0.824 | F1-score = 0.439\n",
      "Threshold = 0.45 | Precision = 0.341, Recall = 0.767 | F1-score = 0.472\n",
      "Threshold = 0.50 | Precision = 0.388, Recall = 0.691 | F1-score = 0.497\n",
      "Threshold = 0.55 | Precision = 0.420, Recall = 0.578 | F1-score = 0.487\n",
      "Threshold = 0.60 | Precision = 0.463, Recall = 0.480 | F1-score = 0.472\n",
      "Threshold = 0.65 | Precision = 0.473, Recall = 0.360 | F1-score = 0.409\n",
      "Threshold = 0.70 | Precision = 0.464, Recall = 0.252 | F1-score = 0.327\n",
      "Threshold = 0.75 | Precision = 0.480, Recall = 0.150 | F1-score = 0.228\n",
      "Threshold = 0.80 | Precision = 0.458, Recall = 0.093 | F1-score = 0.155\n",
      "Threshold = 0.85 | Precision = 0.341, Recall = 0.037 | F1-score = 0.066\n",
      "Threshold = 0.90 | Precision = 0.300, Recall = 0.007 | F1-score = 0.014\n"
     ]
    },
    {
     "data": {
      "image/png": "[encoded data removed]",
      "text/plain": [
       "<Figure size 1152x720 with 1 Axes>"
      ]
     },
     "metadata": {
      "needs_background": "light"
     },
     "output_type": "display_data"
    }
   ],
   "source": [
    "print_pr_curve(lin_reg_down_models[lin_reg_down_best_ind], lin_reg_down_feat[lin_reg_down_best_ind], valid_features, valid_target)"
   ]
  },
  {
   "cell_type": "markdown",
   "id": "a2708a6e",
   "metadata": {},
   "source": [
    "### Вывод"
   ]
  },
  {
   "cell_type": "markdown",
   "id": "214e4a24",
   "metadata": {},
   "source": [
    "Не очень хотелось писать общие одинаковые слова по каждому измерению и графику, поэтому напишу общий вывод по всем исследованиям моделей.\n",
    "\n",
    "* Значений F1-score для лучших моделей случайного леса колеблются в районе 0.59 - 0.61. На сбалансированных выборках вроде бы чуть лучше - но на самом деле нет. Разницы в 0.01-0.02 можно добиться даже обычным изменением параметра random_state при обучении модели или при разбиении выборки. Я не стал делать показательный перебор в этой работе, но игрался с этим параметром - различия действительно немаленькие по сравнения с различиями в моделях, обученных на разных данных. Нужна некоторая метрика для оценки погрешности наших моделей - но я, к сожалению, _пока не шарю_\n",
    "\n",
    "* При обучении на несбалансированных выборках мы использовали гиперпараметр class_weight, который делает примерно то же самое, что и расширение/сужение выборки - сглаживает несбалансированность классов. Как следствие, мы имеем довольно схожие (схожесть в рамках описанного в предыдущем пункте) результаты для сбалансированных и несбалансированных выборок.\n",
    "\n",
    "* Линейная регрессия показывает ужасные результаты. Не знаю, почему мне так не везет, но это не первый отчет, где метрика на модели данного алгоритма у меня хуже некуда. Я смотрю видео крутых аналитиков, которые рассказывают, что в каких-то отраслях линейная регрессия - это круто. Я читаю отчеты на kaggle (даже на этом наборе данных) - ребята получают адекватные значения метрик, практически не трогая гиперпараметры, а только лишь угадывая хороший random_state - и получают хороший результат. Не знаю, почему мне так не везет:)\n",
    "\n",
    "* На некоторых моделях видно, что у одной F1 выше, а AUC-ROC при этом ниже. Разница при этом не фатальная, что говорит о тонком различии между этими метриками, которое можно использовать в различных задачах (в зависимости от веса определенных ошибок)."
   ]
  },
  {
   "cell_type": "markdown",
   "id": "de29df78",
   "metadata": {},
   "source": [
    "## Тестирование полученных моделей"
   ]
  },
  {
   "cell_type": "markdown",
   "id": "0b692782",
   "metadata": {},
   "source": [
    "Тестирование будем проводить следующим образом.\n",
    "* наилучшие модели, полученные при обучении на несбалансированных выборках, будем проверять, обучая на несбалансированных выборках - объединении обучающей и валидационной, а проверять на несбалансированной тестовой.\n",
    "* наилучшие модели, полученные при обучении на сбалансированных выборках, будем проверять, обучая на соответствущим образом сбалансированных выборках (расширенных или суженных), а проверять также на несбалансированной тестовой."
   ]
  },
  {
   "cell_type": "markdown",
   "id": "ca815ca0",
   "metadata": {},
   "source": [
    "Для этого создадим расширенные и суженные версии объединения обучающей и валидационной выборок"
   ]
  },
  {
   "cell_type": "code",
   "execution_count": 31,
   "id": "6fb77632",
   "metadata": {},
   "outputs": [
    {
     "name": "stdout",
     "output_type": "stream",
     "text": [
      "Upsampled train sample size 12886\n",
      "Class 1 6516\n",
      "Class 2 6370\n"
     ]
    }
   ],
   "source": [
    "main_features_upsampled, main_target_upsampled = upsample(main_features, main_target, 4)\n",
    "print('Upsampled train sample size', main_features_upsampled.shape[0])\n",
    "print('Class 1', main_features_upsampled[main_target_upsampled == 1].shape[0])\n",
    "print('Class 2', main_features_upsampled[main_target_upsampled == 0].shape[0])"
   ]
  },
  {
   "cell_type": "code",
   "execution_count": 32,
   "id": "845c1826",
   "metadata": {},
   "outputs": [
    {
     "name": "stdout",
     "output_type": "stream",
     "text": [
      "Downsampled train sample size 3285\n",
      "Class 1 1629\n",
      "Class 2 1656\n"
     ]
    }
   ],
   "source": [
    "main_features_downsampled, main_target_downsampled = downsample(main_features, main_target, 0.26)\n",
    "print('Downsampled train sample size', main_features_downsampled.shape[0])\n",
    "print('Class 1', main_features_downsampled[main_target_downsampled == 1].shape[0])\n",
    "print('Class 2', main_features_downsampled[main_target_downsampled == 0].shape[0])"
   ]
  },
  {
   "cell_type": "markdown",
   "id": "ff75575a",
   "metadata": {},
   "source": [
    "Проверим также наши модели на \"адекватность\", сравнив их точности с простыми классификаторами. Первый простой классификатор будет выдавать константный ответ, равный самому популярному ответу в обучающей выборке, а второй - выдавать ответы согласно распределению такому же, какое было среди элементов обучающей выборки."
   ]
  },
  {
   "cell_type": "code",
   "execution_count": 33,
   "id": "3a830030",
   "metadata": {},
   "outputs": [
    {
     "name": "stdout",
     "output_type": "stream",
     "text": [
      "First dummy f1 score 0.19417475728155342\n",
      "First dummy auc-roc score 0.4925778220892877\n",
      "Second dummy f1 score 0.0\n",
      "Second dummy auc-roc score 0.5\n"
     ]
    }
   ],
   "source": [
    "dummy_model_1 = DummyClassifier(random_state=12345, strategy='stratified').fit(main_features, main_target)\n",
    "test_predictions = dummy_model_1.predict(test_features)\n",
    "print('First dummy f1 score', f1_score(test_target, test_predictions))\n",
    "print('First dummy auc-roc score', roc_auc_score(test_target, test_predictions))\n",
    "\n",
    "dummy_model_2 = DummyClassifier(random_state=12345, strategy='most_frequent').fit(main_features, main_target)\n",
    "test_predictions = dummy_model_2.predict(test_features)\n",
    "print('Second dummy f1 score', f1_score(test_target, test_predictions))\n",
    "print('Second dummy auc-roc score', roc_auc_score(test_target, test_predictions))"
   ]
  },
  {
   "cell_type": "markdown",
   "id": "37f5237f",
   "metadata": {},
   "source": [
    "#### Случайный лес"
   ]
  },
  {
   "cell_type": "code",
   "execution_count": 34,
   "id": "e5571353",
   "metadata": {},
   "outputs": [
    {
     "name": "stdout",
     "output_type": "stream",
     "text": [
      "F1 score: 0.617408906882591\n",
      "AUC-ROC score: 0.7874593811159115\n"
     ]
    }
   ],
   "source": [
    "best_random_forest_classifier = RandomForestClassifier(class_weight='balanced', max_depth=6, max_features=6,\n",
    "                       n_estimators=31, random_state=12345)\n",
    "best_random_forest_classifier.fit(main_features[best_random_forest_features], main_target)\n",
    "predicted_target = best_random_forest_classifier.predict(test_features[best_random_forest_features])\n",
    "print('F1 score:', f1_score(test_target, predicted_target))\n",
    "print('AUC-ROC score:', roc_auc_score(test_target, predicted_target))"
   ]
  },
  {
   "cell_type": "code",
   "execution_count": 35,
   "id": "df355d74",
   "metadata": {},
   "outputs": [
    {
     "name": "stdout",
     "output_type": "stream",
     "text": [
      "F1 score: 0.6355555555555555\n",
      "AUC-ROC score: 0.7858323178612311\n"
     ]
    }
   ],
   "source": [
    "best_random_forest_classifier = RandomForestClassifier(**random_forest_up_param[random_forest_up_best_ind])\n",
    "best_random_forest_classifier.fit(main_features_upsampled[random_forest_up_feat[random_forest_up_best_ind]], main_target_upsampled)\n",
    "predicted_target = best_random_forest_classifier.predict(test_features[random_forest_up_feat[random_forest_up_best_ind]])\n",
    "print('F1 score:', f1_score(test_target, predicted_target))\n",
    "print('AUC-ROC score:', roc_auc_score(test_target, predicted_target))"
   ]
  },
  {
   "cell_type": "code",
   "execution_count": 36,
   "id": "b5cbc4ab",
   "metadata": {},
   "outputs": [
    {
     "name": "stdout",
     "output_type": "stream",
     "text": [
      "F1 score: 0.6104023552502453\n",
      "AUC-ROC score: 0.7869654924116539\n"
     ]
    }
   ],
   "source": [
    "best_random_forest_classifier = RandomForestClassifier(**random_forest_down_param[random_forest_down_best_ind])\n",
    "best_random_forest_classifier.fit(main_features_downsampled[random_forest_down_feat[random_forest_down_best_ind]], main_target_downsampled)\n",
    "predicted_target = best_random_forest_classifier.predict(test_features[random_forest_down_feat[random_forest_down_best_ind]])\n",
    "print('F1 score:', f1_score(test_target, predicted_target))\n",
    "print('AUC-ROC score:', roc_auc_score(test_target, predicted_target))"
   ]
  },
  {
   "cell_type": "markdown",
   "id": "f8538102",
   "metadata": {},
   "source": [
    "#### Логистическая регрессия"
   ]
  },
  {
   "cell_type": "code",
   "execution_count": 37,
   "id": "592dfae2",
   "metadata": {},
   "outputs": [
    {
     "name": "stdout",
     "output_type": "stream",
     "text": [
      "F1 score: 0.33872976338729766\n",
      "AUC-ROC score: 0.5\n"
     ]
    }
   ],
   "source": [
    "best_lin_reg_classifier = LogisticRegression(class_weight='balanced', solver='lbfgs', \n",
    "                                                 max_iter=10000, random_state=12345)\n",
    "best_lin_reg_classifier.fit(main_features[best_lin_reg_features], main_target)\n",
    "predicted_target = best_lin_reg_classifier.predict(test_features[best_lin_reg_features])\n",
    "print('F1 score:', f1_score(test_target, predicted_target))\n",
    "print('AUC-ROC score:', roc_auc_score(test_target, predicted_target))"
   ]
  },
  {
   "cell_type": "code",
   "execution_count": 38,
   "id": "be91f105",
   "metadata": {},
   "outputs": [
    {
     "name": "stdout",
     "output_type": "stream",
     "text": [
      "Threshold = 0.00 | Precision = 0.204, Recall = 1.000 | F1-score = 0.339\n",
      "Threshold = 0.05 | Precision = 0.204, Recall = 1.000 | F1-score = 0.339\n",
      "Threshold = 0.10 | Precision = 0.204, Recall = 1.000 | F1-score = 0.339\n",
      "Threshold = 0.15 | Precision = 0.204, Recall = 1.000 | F1-score = 0.339\n",
      "Threshold = 0.20 | Precision = 0.204, Recall = 1.000 | F1-score = 0.339\n",
      "Threshold = 0.25 | Precision = 0.204, Recall = 1.000 | F1-score = 0.339\n",
      "Threshold = 0.30 | Precision = 0.204, Recall = 1.000 | F1-score = 0.339\n",
      "Threshold = 0.35 | Precision = 0.204, Recall = 1.000 | F1-score = 0.339\n",
      "Threshold = 0.40 | Precision = 0.204, Recall = 1.000 | F1-score = 0.339\n",
      "Threshold = 0.45 | Precision = 0.204, Recall = 1.000 | F1-score = 0.339\n",
      "Threshold = 0.50 | Precision = 0.204, Recall = 1.000 | F1-score = 0.339\n",
      "Threshold = 0.55 | Precision = 0.234, Recall = 0.446 | F1-score = 0.307\n",
      "Threshold = 0.60 | Precision = 0.000, Recall = 0.000 | F1-score = 0.000\n",
      "Threshold = 0.65 | Precision = 0.000, Recall = 0.000 | F1-score = 0.000\n",
      "Threshold = 0.70 | Precision = 0.000, Recall = 0.000 | F1-score = 0.000\n",
      "Threshold = 0.75 | Precision = 0.000, Recall = 0.000 | F1-score = 0.000\n",
      "Threshold = 0.80 | Precision = 0.000, Recall = 0.000 | F1-score = 0.000\n",
      "Threshold = 0.85 | Precision = 0.000, Recall = 0.000 | F1-score = 0.000\n",
      "Threshold = 0.90 | Precision = 0.000, Recall = 0.000 | F1-score = 0.000\n"
     ]
    },
    {
     "name": "stderr",
     "output_type": "stream",
     "text": [
      "/home/bloodless/.local/lib/python3.8/site-packages/sklearn/metrics/_classification.py:1248: UndefinedMetricWarning: Precision is ill-defined and being set to 0.0 due to no predicted samples. Use `zero_division` parameter to control this behavior.\n",
      "  _warn_prf(average, modifier, msg_start, len(result))\n",
      "/home/bloodless/.local/lib/python3.8/site-packages/sklearn/metrics/_classification.py:1248: UndefinedMetricWarning: Precision is ill-defined and being set to 0.0 due to no predicted samples. Use `zero_division` parameter to control this behavior.\n",
      "  _warn_prf(average, modifier, msg_start, len(result))\n",
      "/home/bloodless/.local/lib/python3.8/site-packages/sklearn/metrics/_classification.py:1248: UndefinedMetricWarning: Precision is ill-defined and being set to 0.0 due to no predicted samples. Use `zero_division` parameter to control this behavior.\n",
      "  _warn_prf(average, modifier, msg_start, len(result))\n",
      "/home/bloodless/.local/lib/python3.8/site-packages/sklearn/metrics/_classification.py:1248: UndefinedMetricWarning: Precision is ill-defined and being set to 0.0 due to no predicted samples. Use `zero_division` parameter to control this behavior.\n",
      "  _warn_prf(average, modifier, msg_start, len(result))\n",
      "/home/bloodless/.local/lib/python3.8/site-packages/sklearn/metrics/_classification.py:1248: UndefinedMetricWarning: Precision is ill-defined and being set to 0.0 due to no predicted samples. Use `zero_division` parameter to control this behavior.\n",
      "  _warn_prf(average, modifier, msg_start, len(result))\n",
      "/home/bloodless/.local/lib/python3.8/site-packages/sklearn/metrics/_classification.py:1248: UndefinedMetricWarning: Precision is ill-defined and being set to 0.0 due to no predicted samples. Use `zero_division` parameter to control this behavior.\n",
      "  _warn_prf(average, modifier, msg_start, len(result))\n",
      "/home/bloodless/.local/lib/python3.8/site-packages/sklearn/metrics/_classification.py:1248: UndefinedMetricWarning: Precision is ill-defined and being set to 0.0 due to no predicted samples. Use `zero_division` parameter to control this behavior.\n",
      "  _warn_prf(average, modifier, msg_start, len(result))\n"
     ]
    },
    {
     "data": {
      "image/png": "[encoded data removed]",
      "text/plain": [
       "<Figure size 1152x720 with 1 Axes>"
      ]
     },
     "metadata": {
      "needs_background": "light"
     },
     "output_type": "display_data"
    }
   ],
   "source": [
    "print_pr_curve(best_lin_reg_classifier, best_lin_reg_features, test_features, test_target)"
   ]
  },
  {
   "cell_type": "code",
   "execution_count": 39,
   "id": "871f77cd",
   "metadata": {},
   "outputs": [
    {
     "name": "stdout",
     "output_type": "stream",
     "text": [
      "F1 score: 0.35894495412844035\n",
      "AUC-ROC score: 0.5624861526531516\n"
     ]
    }
   ],
   "source": [
    "best_lin_reg_classifier = LogisticRegression(**lin_reg_up_param[lin_reg_up_best_ind])\n",
    "best_lin_reg_classifier.fit(main_features_upsampled[lin_reg_up_feat[lin_reg_up_best_ind]], main_target_upsampled)\n",
    "predicted_target = best_lin_reg_classifier.predict(test_features[lin_reg_up_feat[lin_reg_up_best_ind]])\n",
    "print('F1 score:', f1_score(test_target, predicted_target))\n",
    "print('AUC-ROC score:', roc_auc_score(test_target, predicted_target))"
   ]
  },
  {
   "cell_type": "code",
   "execution_count": 40,
   "id": "a8836960",
   "metadata": {},
   "outputs": [
    {
     "name": "stdout",
     "output_type": "stream",
     "text": [
      "Threshold = 0.00 | Precision = 0.204, Recall = 1.000 | F1-score = 0.339\n",
      "Threshold = 0.05 | Precision = 0.204, Recall = 1.000 | F1-score = 0.339\n",
      "Threshold = 0.10 | Precision = 0.204, Recall = 1.000 | F1-score = 0.339\n",
      "Threshold = 0.15 | Precision = 0.204, Recall = 1.000 | F1-score = 0.339\n",
      "Threshold = 0.20 | Precision = 0.204, Recall = 1.000 | F1-score = 0.339\n",
      "Threshold = 0.25 | Precision = 0.204, Recall = 1.000 | F1-score = 0.339\n",
      "Threshold = 0.30 | Precision = 0.204, Recall = 1.000 | F1-score = 0.339\n",
      "Threshold = 0.35 | Precision = 0.204, Recall = 1.000 | F1-score = 0.339\n",
      "Threshold = 0.40 | Precision = 0.207, Recall = 0.995 | F1-score = 0.343\n",
      "Threshold = 0.45 | Precision = 0.218, Recall = 0.934 | F1-score = 0.354\n",
      "Threshold = 0.50 | Precision = 0.234, Recall = 0.767 | F1-score = 0.359\n",
      "Threshold = 0.55 | Precision = 0.248, Recall = 0.525 | F1-score = 0.336\n",
      "Threshold = 0.60 | Precision = 0.327, Recall = 0.316 | F1-score = 0.322\n",
      "Threshold = 0.65 | Precision = 0.453, Recall = 0.096 | F1-score = 0.158\n",
      "Threshold = 0.70 | Precision = 0.286, Recall = 0.005 | F1-score = 0.010\n",
      "Threshold = 0.75 | Precision = 0.000, Recall = 0.000 | F1-score = 0.000\n",
      "Threshold = 0.80 | Precision = 0.000, Recall = 0.000 | F1-score = 0.000\n",
      "Threshold = 0.85 | Precision = 0.000, Recall = 0.000 | F1-score = 0.000\n",
      "Threshold = 0.90 | Precision = 0.000, Recall = 0.000 | F1-score = 0.000\n"
     ]
    },
    {
     "name": "stderr",
     "output_type": "stream",
     "text": [
      "/home/bloodless/.local/lib/python3.8/site-packages/sklearn/metrics/_classification.py:1248: UndefinedMetricWarning: Precision is ill-defined and being set to 0.0 due to no predicted samples. Use `zero_division` parameter to control this behavior.\n",
      "  _warn_prf(average, modifier, msg_start, len(result))\n",
      "/home/bloodless/.local/lib/python3.8/site-packages/sklearn/metrics/_classification.py:1248: UndefinedMetricWarning: Precision is ill-defined and being set to 0.0 due to no predicted samples. Use `zero_division` parameter to control this behavior.\n",
      "  _warn_prf(average, modifier, msg_start, len(result))\n",
      "/home/bloodless/.local/lib/python3.8/site-packages/sklearn/metrics/_classification.py:1248: UndefinedMetricWarning: Precision is ill-defined and being set to 0.0 due to no predicted samples. Use `zero_division` parameter to control this behavior.\n",
      "  _warn_prf(average, modifier, msg_start, len(result))\n",
      "/home/bloodless/.local/lib/python3.8/site-packages/sklearn/metrics/_classification.py:1248: UndefinedMetricWarning: Precision is ill-defined and being set to 0.0 due to no predicted samples. Use `zero_division` parameter to control this behavior.\n",
      "  _warn_prf(average, modifier, msg_start, len(result))\n"
     ]
    },
    {
     "data": {
      "image/png": "[encoded data removed]",
      "text/plain": [
       "<Figure size 1152x720 with 1 Axes>"
      ]
     },
     "metadata": {
      "needs_background": "light"
     },
     "output_type": "display_data"
    }
   ],
   "source": [
    "print_pr_curve(best_lin_reg_classifier, lin_reg_up_feat[lin_reg_up_best_ind], test_features, test_target)"
   ]
  },
  {
   "cell_type": "code",
   "execution_count": 41,
   "id": "861ee26c",
   "metadata": {},
   "outputs": [
    {
     "name": "stdout",
     "output_type": "stream",
     "text": [
      "F1 score: 0.45257903494176377\n",
      "AUC-ROC score: 0.6694915254237288\n"
     ]
    }
   ],
   "source": [
    "best_lin_reg_classifier = LogisticRegression(**lin_reg_down_param[lin_reg_down_best_ind])\n",
    "best_lin_reg_classifier.fit(main_features_downsampled[lin_reg_down_feat[lin_reg_down_best_ind]], main_target_downsampled)\n",
    "predicted_target = best_lin_reg_classifier.predict(test_features[lin_reg_down_feat[lin_reg_down_best_ind]])\n",
    "print('F1 score:', f1_score(test_target, predicted_target))\n",
    "print('AUC-ROC score:', roc_auc_score(test_target, predicted_target))"
   ]
  },
  {
   "cell_type": "code",
   "execution_count": 42,
   "id": "596d7f80",
   "metadata": {},
   "outputs": [
    {
     "name": "stdout",
     "output_type": "stream",
     "text": [
      "Threshold = 0.00 | Precision = 0.204, Recall = 1.000 | F1-score = 0.339\n",
      "Threshold = 0.05 | Precision = 0.204, Recall = 1.000 | F1-score = 0.339\n",
      "Threshold = 0.10 | Precision = 0.204, Recall = 1.000 | F1-score = 0.339\n",
      "Threshold = 0.15 | Precision = 0.204, Recall = 1.000 | F1-score = 0.339\n",
      "Threshold = 0.20 | Precision = 0.207, Recall = 0.993 | F1-score = 0.343\n",
      "Threshold = 0.25 | Precision = 0.216, Recall = 0.985 | F1-score = 0.354\n",
      "Threshold = 0.30 | Precision = 0.231, Recall = 0.968 | F1-score = 0.373\n",
      "Threshold = 0.35 | Precision = 0.251, Recall = 0.919 | F1-score = 0.394\n",
      "Threshold = 0.40 | Precision = 0.278, Recall = 0.853 | F1-score = 0.419\n",
      "Threshold = 0.45 | Precision = 0.312, Recall = 0.770 | F1-score = 0.444\n",
      "Threshold = 0.50 | Precision = 0.343, Recall = 0.667 | F1-score = 0.453\n",
      "Threshold = 0.55 | Precision = 0.380, Recall = 0.551 | F1-score = 0.450\n",
      "Threshold = 0.60 | Precision = 0.408, Recall = 0.436 | F1-score = 0.422\n",
      "Threshold = 0.65 | Precision = 0.451, Recall = 0.319 | F1-score = 0.374\n",
      "Threshold = 0.70 | Precision = 0.436, Recall = 0.201 | F1-score = 0.275\n",
      "Threshold = 0.75 | Precision = 0.398, Recall = 0.115 | F1-score = 0.179\n",
      "Threshold = 0.80 | Precision = 0.283, Recall = 0.042 | F1-score = 0.073\n",
      "Threshold = 0.85 | Precision = 0.226, Recall = 0.017 | F1-score = 0.032\n",
      "Threshold = 0.90 | Precision = 0.000, Recall = 0.000 | F1-score = 0.000\n"
     ]
    },
    {
     "data": {
      "image/png": "[encoded data removed]",
      "text/plain": [
       "<Figure size 1152x720 with 1 Axes>"
      ]
     },
     "metadata": {
      "needs_background": "light"
     },
     "output_type": "display_data"
    }
   ],
   "source": [
    "print_pr_curve(best_lin_reg_classifier, lin_reg_down_feat[lin_reg_down_best_ind], test_features, test_target)"
   ]
  },
  {
   "cell_type": "markdown",
   "id": "8544842a",
   "metadata": {},
   "source": [
    "## Общий вывод"
   ]
  },
  {
   "cell_type": "markdown",
   "id": "7cb5e4df",
   "metadata": {},
   "source": [
    "Была проделана невероятная по объему работа!\n",
    "\n",
    "Были изучены данные. Выбраны признаки классификации и целевой признак. Для категориальных признаков было осуществлено преобразование в целочисленные методом OHE, для целочисленных - нормализация. Было определено соотношение классов и необходимость учитывания несбалансированности классов при обучении.\n",
    "\n",
    "Были выбраны два алгоритма машинных обучения (случайный лес и логистическая регрессия) и их реализации в библиотеке sci-kit learn. Для каждой реализации был подобран набор гиперпараметров. Был разработан алгоритм перебора признаков для определения оптимального. Для каждого набора гиперпараметров с использованием алгоритма перебора признаков были обучены на тестовой выборке модели. Проверка качества модели производилась кросс-валидацией с 2 делениями. Для каждого алгоритма была определена модель, показывающая лучшее значение точности (f1) на обучающей выборке, превышающая при этом заранее определенную границу 0.59. Такой оказалась лишь модель случайного леса.\n",
    "\n",
    "Также были проведены поиски наилучшей модели с тем же пространством гиперпараметров и тем же алгоритмом перебора комбинаций признаков, но обученные на двух видах сбалансированных выборок - расширенной и суженной. Результаты были схожи - наилучшая модель случайного леса немного превышала указанный в условии порог 0.59 (0.6), наилучшая модель логистической регрессии была сильно хуже (0.49).\n",
    "\n",
    "Для каждой наилучшей модели вычислено значение метрики AUC-ROC. Для моделей логистической регрессии было проведено исследование значений f1-метрики на основании различных значений порога классификации.\n",
    "\n",
    "Как итог - была выбрана и обучена наилучшая модель с f1-метрикой свыше 0.59 (а именно модель случайного леса со значением метрики 0.63). Исходная задача полностью выполнена."
   ]
  }
 ],
 "metadata": {
  "kernelspec": {
   "display_name": "Python 3",
   "language": "python",
   "name": "python3"
  },
  "language_info": {
   "codemirror_mode": {
    "name": "ipython",
    "version": 3
   },
   "file_extension": ".py",
   "mimetype": "text/x-python",
   "name": "python",
   "nbconvert_exporter": "python",
   "pygments_lexer": "ipython3",
   "version": "3.8.8"
  },
  "toc": {
   "base_numbering": 1,
   "nav_menu": {},
   "number_sections": true,
   "sideBar": true,
   "skip_h1_title": true,
   "title_cell": "Table of Contents",
   "title_sidebar": "Contents",
   "toc_cell": false,
   "toc_position": {},
   "toc_section_display": true,
   "toc_window_display": true
  }
 },
 "nbformat": 4,
 "nbformat_minor": 5
}
